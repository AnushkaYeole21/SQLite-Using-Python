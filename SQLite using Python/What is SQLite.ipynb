{
 "cells": [
  {
   "cell_type": "markdown",
   "id": "7b57abd9-b6f0-4362-b8d8-f0127fc2c713",
   "metadata": {},
   "source": [
    "# SQLite \n"
   ]
  },
  {
   "cell_type": "markdown",
   "id": "0fd569c8-46a0-4ed1-9fe3-6f187fba5f8e",
   "metadata": {},
   "source": []
  },
  {
   "cell_type": "code",
   "execution_count": null,
   "id": "16b37cb9-bb21-40eb-aa27-873e8a9bd378",
   "metadata": {},
   "outputs": [],
   "source": []
  },
  {
   "cell_type": "code",
   "execution_count": null,
   "id": "80baa1ba-fc3f-4c37-b610-6b2db27362ce",
   "metadata": {},
   "outputs": [],
   "source": []
  }
 ],
 "metadata": {
  "kernelspec": {
   "display_name": "Python 3 (ipykernel)",
   "language": "python",
   "name": "python3"
  },
  "language_info": {
   "codemirror_mode": {
    "name": "ipython",
    "version": 3
   },
   "file_extension": ".py",
   "mimetype": "text/x-python",
   "name": "python",
   "nbconvert_exporter": "python",
   "pygments_lexer": "ipython3",
   "version": "3.12.4"
  }
 },
 "nbformat": 4,
 "nbformat_minor": 5
}
