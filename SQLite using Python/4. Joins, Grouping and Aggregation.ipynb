{
 "cells": [
  {
   "cell_type": "markdown",
   "id": "10dcd4f6-2e91-4b96-9f3d-40d63c9ea2c3",
   "metadata": {},
   "source": [
    "# Joins, Grouping and Aggregation"
   ]
  },
  {
   "cell_type": "markdown",
   "id": "fba47ce2-8ced-4d1b-a0a8-e3e2b21cd6c1",
   "metadata": {},
   "source": [
    "We are going to learn Joins, grouping and aggregation with a small project of **School Management Database**. "
   ]
  },
  {
   "cell_type": "markdown",
   "id": "e9b193e5-c9dc-4315-bd44-6e91df52b0bc",
   "metadata": {},
   "source": [
    "**1. Create and connect a new database**"
   ]
  },
  {
   "cell_type": "code",
   "execution_count": 5,
   "id": "ecf5b93b-f16a-4a86-b2a3-f7e0ab3487cd",
   "metadata": {},
   "outputs": [],
   "source": [
    "import sqlite3"
   ]
  },
  {
   "cell_type": "code",
   "execution_count": 7,
   "id": "c1352975-b424-461a-a520-8c2dee0ef531",
   "metadata": {},
   "outputs": [],
   "source": [
    "# Create the database and connect\n",
    "conn = sqlite3.connect('School_Management_db.db')\n",
    "cursor = conn.cursor()"
   ]
  },
  {
   "cell_type": "markdown",
   "id": "fe098739-a906-4f29-ac3e-babc68072d08",
   "metadata": {},
   "source": [
    "**2. See the list of Databases** "
   ]
  },
  {
   "cell_type": "code",
   "execution_count": 12,
   "id": "55fe79c5-e1b7-43ac-9bc2-f00e8579ea1d",
   "metadata": {},
   "outputs": [],
   "source": [
    "import os"
   ]
  },
  {
   "cell_type": "code",
   "execution_count": 15,
   "id": "b154a6c8-ece6-4328-8e5b-19980e92f81e",
   "metadata": {},
   "outputs": [
    {
     "name": "stdout",
     "output_type": "stream",
     "text": [
      "Databases: ['sample_database.db', 'school.db', 'school_management.db', 'School_Management_db.db', 'School_Mngt.db', 'student_database.db']\n"
     ]
    }
   ],
   "source": [
    "# List all .db files in the current directory\n",
    "databases = [f for f in os.listdir() if f.endswith('.db')]\n",
    "print(\"Databases:\", databases)"
   ]
  },
  {
   "cell_type": "markdown",
   "id": "ed2ad3d0-5113-4f4f-b103-747a7ff83088",
   "metadata": {},
   "source": [
    "**3. Create `students` table**"
   ]
  },
  {
   "cell_type": "code",
   "execution_count": 17,
   "id": "57f88e6f-a26c-4958-8647-30f0dbbc1682",
   "metadata": {},
   "outputs": [
    {
     "data": {
      "text/plain": [
       "<sqlite3.Cursor at 0x1d059cfddc0>"
      ]
     },
     "execution_count": 17,
     "metadata": {},
     "output_type": "execute_result"
    }
   ],
   "source": [
    "# Create students table\n",
    "cursor.execute('''\n",
    "CREATE TABLE IF NOT EXISTS students (\n",
    "    student_id INTEGER PRIMARY KEY,\n",
    "    name TEXT NOT NULL,\n",
    "    age INTEGER,\n",
    "    gender TEXT\n",
    ");\n",
    "''')"
   ]
  },
  {
   "cell_type": "markdown",
   "id": "a7c65e17-b4df-43b1-87c7-8bc24dda6751",
   "metadata": {},
   "source": [
    "**4. Create `courses` table**"
   ]
  },
  {
   "cell_type": "code",
   "execution_count": 33,
   "id": "64b4f434-2f7d-4276-a16c-432e211d73e4",
   "metadata": {},
   "outputs": [
    {
     "data": {
      "text/plain": [
       "<sqlite3.Cursor at 0x1d059cfddc0>"
      ]
     },
     "execution_count": 33,
     "metadata": {},
     "output_type": "execute_result"
    }
   ],
   "source": [
    "# Create courses table\n",
    "cursor.execute('''\n",
    "CREATE TABLE IF NOT EXISTS courses (\n",
    "    course_id INTEGER PRIMARY KEY,\n",
    "    course_name TEXT NOT NULL,\n",
    "    course_duration TEXT\n",
    ");\n",
    "''')"
   ]
  },
  {
   "cell_type": "markdown",
   "id": "ba983c4d-5cef-4f2d-8ed0-1718c47ed326",
   "metadata": {},
   "source": [
    "**5. Create `enrollments` table**"
   ]
  },
  {
   "cell_type": "code",
   "execution_count": 35,
   "id": "86bf26d8-2e22-4aec-a90c-5ef2f592c8bc",
   "metadata": {},
   "outputs": [
    {
     "data": {
      "text/plain": [
       "<sqlite3.Cursor at 0x1d059cfddc0>"
      ]
     },
     "execution_count": 35,
     "metadata": {},
     "output_type": "execute_result"
    }
   ],
   "source": [
    "# Create enrollments table with the new grade column\n",
    "cursor.execute('''\n",
    "CREATE TABLE IF NOT EXISTS enrollments (\n",
    "    enrollment_id INTEGER PRIMARY KEY,\n",
    "    student_id INTEGER,\n",
    "    course_id INTEGER,\n",
    "    grade TEXT,\n",
    "    FOREIGN KEY (student_id) REFERENCES students (student_id),\n",
    "    FOREIGN KEY (course_id) REFERENCES courses (course_id)\n",
    ");\n",
    "''')"
   ]
  },
  {
   "cell_type": "markdown",
   "id": "f17d5716-de29-4b08-8224-b6615ef8fda7",
   "metadata": {},
   "source": [
    "**6. Create `teachers` table** "
   ]
  },
  {
   "cell_type": "code",
   "execution_count": 38,
   "id": "e60b94d9-f034-46da-8d93-48e7c2e0c02a",
   "metadata": {},
   "outputs": [
    {
     "data": {
      "text/plain": [
       "<sqlite3.Cursor at 0x1d059cfddc0>"
      ]
     },
     "execution_count": 38,
     "metadata": {},
     "output_type": "execute_result"
    }
   ],
   "source": [
    "# Create teachers table\n",
    "cursor.execute('''\n",
    "CREATE TABLE IF NOT EXISTS teachers (\n",
    "    teacher_id INTEGER PRIMARY KEY,\n",
    "    name TEXT NOT NULL,\n",
    "    department_id INTEGER,\n",
    "    FOREIGN KEY (department_id) REFERENCES departments(department_id)\n",
    ");\n",
    "''')"
   ]
  },
  {
   "cell_type": "markdown",
   "id": "04948972-0e3c-419e-a9c4-64fe3a24b9d2",
   "metadata": {},
   "source": [
    "**7. Create `departments` table**"
   ]
  },
  {
   "cell_type": "code",
   "execution_count": 41,
   "id": "1695b071-770b-4c8e-8f83-19e56157d5d1",
   "metadata": {},
   "outputs": [
    {
     "data": {
      "text/plain": [
       "<sqlite3.Cursor at 0x1d059cfddc0>"
      ]
     },
     "execution_count": 41,
     "metadata": {},
     "output_type": "execute_result"
    }
   ],
   "source": [
    "# Create departments table\n",
    "cursor.execute('''\n",
    "CREATE TABLE IF NOT EXISTS departments (\n",
    "    department_id INTEGER PRIMARY KEY,\n",
    "    department_name TEXT NOT NULL\n",
    ");\n",
    "''')"
   ]
  },
  {
   "cell_type": "markdown",
   "id": "50339c0f-93d1-4dd2-9815-c229ff62f16c",
   "metadata": {},
   "source": [
    "**8. Commit changes**"
   ]
  },
  {
   "cell_type": "code",
   "execution_count": 44,
   "id": "ce844198-5dc5-4586-9c82-0cdc29a77bfb",
   "metadata": {},
   "outputs": [
    {
     "name": "stdout",
     "output_type": "stream",
     "text": [
      "Tables created successfully.\n"
     ]
    }
   ],
   "source": [
    "# Commit changes \n",
    "conn.commit()\n",
    "print(\"Tables created successfully.\")"
   ]
  },
  {
   "cell_type": "markdown",
   "id": "39f225a6-407b-4edc-9052-f2413c2f6edc",
   "metadata": {},
   "source": [
    "**9. List the tables**"
   ]
  },
  {
   "cell_type": "code",
   "execution_count": 48,
   "id": "bdfa166a-a0f7-4d0a-81ff-e206eb2dfada",
   "metadata": {},
   "outputs": [
    {
     "name": "stdout",
     "output_type": "stream",
     "text": [
      "List of Tables:\n",
      "students\n",
      "courses\n",
      "enrollments\n",
      "teachers\n",
      "departments\n"
     ]
    }
   ],
   "source": [
    "cursor.execute(\"SELECT name FROM sqlite_master WHERE type='table';\")\n",
    "tables = cursor.fetchall()\n",
    "\n",
    "print(\"List of Tables:\")\n",
    "for table in tables:\n",
    "    print(table[0])"
   ]
  },
  {
   "cell_type": "markdown",
   "id": "d06f8c88-ff47-42a6-8faf-898275458851",
   "metadata": {},
   "source": [
    "**10. Insert sample data into `students` table**"
   ]
  },
  {
   "cell_type": "code",
   "execution_count": 51,
   "id": "18715971-5cdb-453a-adf1-5fee3a4eea0b",
   "metadata": {},
   "outputs": [
    {
     "data": {
      "text/plain": [
       "<sqlite3.Cursor at 0x1d059cfddc0>"
      ]
     },
     "execution_count": 51,
     "metadata": {},
     "output_type": "execute_result"
    }
   ],
   "source": [
    "# Insert sample data into students table\n",
    "students_data = [\n",
    "    (1, 'Aarav', 21, 'Male'),\n",
    "    (2, 'Isha', 22, 'Female'),\n",
    "    (3, 'Rohit', 23, 'Male'),\n",
    "    (4, 'Neha', 20, 'Female'),\n",
    "    (5, 'Amit', 22, 'Male'),\n",
    "    (6, 'Priya', 21, 'Female'),\n",
    "    (7, 'Kunal', 24, 'Male'),\n",
    "    (8, 'Sita', 23, 'Female'),\n",
    "    (9, 'Arjun', 20, 'Male'),\n",
    "    (10, 'Radha', 22, 'Female')\n",
    "]\n",
    "cursor.executemany('INSERT INTO students (student_id, name, age, gender) VALUES (?, ?, ?, ?)', students_data)"
   ]
  },
  {
   "cell_type": "markdown",
   "id": "3b72021a-ba0b-4254-b45a-308625fa09e3",
   "metadata": {},
   "source": [
    "**11. Insert sample data into `courses` table**"
   ]
  },
  {
   "cell_type": "code",
   "execution_count": 60,
   "id": "93eaf3c6-1d35-4c5f-ab85-10e317f1ce9d",
   "metadata": {},
   "outputs": [
    {
     "data": {
      "text/plain": [
       "<sqlite3.Cursor at 0x1d059cfddc0>"
      ]
     },
     "execution_count": 60,
     "metadata": {},
     "output_type": "execute_result"
    }
   ],
   "source": [
    "# Insert sample data into courses table\n",
    "courses_data = [\n",
    "    (1, 'Mathematics', '3 Months'),\n",
    "    (2, 'Physics', '4 Months'),\n",
    "    (3, 'Chemistry', '2 Months'),\n",
    "    (4, 'Biology', '3 Months'),\n",
    "    (5, 'Computer Science', '6 Months')\n",
    "]\n",
    "cursor.executemany('INSERT INTO courses (course_id, course_name, course_duration) VALUES (?, ?, ?)', courses_data)"
   ]
  },
  {
   "cell_type": "markdown",
   "id": "90f896b3-d41d-459d-81ff-8c32a55a7946",
   "metadata": {},
   "source": [
    "**12. Insert sample data into `enrollments` table**"
   ]
  },
  {
   "cell_type": "code",
   "execution_count": 63,
   "id": "0b3bc2a8-1189-4001-b46c-6f335966b426",
   "metadata": {},
   "outputs": [
    {
     "data": {
      "text/plain": [
       "<sqlite3.Cursor at 0x1d059cfddc0>"
      ]
     },
     "execution_count": 63,
     "metadata": {},
     "output_type": "execute_result"
    }
   ],
   "source": [
    "# Insert sample data into enrollments table\n",
    "enrollments_data = [\n",
    "    (1, 1, 1, 'A'),\n",
    "    (2, 2, 2, 'B'),\n",
    "    (3, 3, 3, 'C'),\n",
    "    (4, 4, 1, 'B'),\n",
    "    (5, 5, 2, 'A'),\n",
    "    (6, 6, 5, 'A'),\n",
    "    (7, 7, 4, 'B'),\n",
    "    (8, 8, 3, 'C'),\n",
    "    (9, 9, 5, 'B'),\n",
    "    (10, 10, 1, 'A')\n",
    "]\n",
    "cursor.executemany('INSERT INTO enrollments (enrollment_id, student_id, course_id, grade) VALUES (?, ?, ?, ?)', enrollments_data)\n"
   ]
  },
  {
   "cell_type": "markdown",
   "id": "0aea38b2-f1a5-4768-a043-d996466801ae",
   "metadata": {},
   "source": [
    "**13. Insert sample data into `departments` table**"
   ]
  },
  {
   "cell_type": "code",
   "execution_count": 66,
   "id": "68e4ccd0-570e-4d95-8847-6356c9b9685c",
   "metadata": {},
   "outputs": [
    {
     "data": {
      "text/plain": [
       "<sqlite3.Cursor at 0x1d059cfddc0>"
      ]
     },
     "execution_count": 66,
     "metadata": {},
     "output_type": "execute_result"
    }
   ],
   "source": [
    "# Insert sample data into departments table\n",
    "departments_data = [\n",
    "    (1, 'Mathematics'),\n",
    "    (2, 'Physics'),\n",
    "    (3, 'Chemistry'),\n",
    "    (4, 'Computer Science'),\n",
    "    (5, 'Biology')\n",
    "]\n",
    "cursor.executemany('INSERT INTO departments (department_id, department_name) VALUES (?, ?)', departments_data)"
   ]
  },
  {
   "cell_type": "markdown",
   "id": "c144b9bf-f3dc-4e64-8df0-342b45d21322",
   "metadata": {},
   "source": [
    "**14. Insert sample data into `teachers` table**"
   ]
  },
  {
   "cell_type": "code",
   "execution_count": 90,
   "id": "1c78a8cf-3eda-4137-9718-aac60e16e2f9",
   "metadata": {},
   "outputs": [
    {
     "data": {
      "text/plain": [
       "<sqlite3.Cursor at 0x1d059cfddc0>"
      ]
     },
     "execution_count": 90,
     "metadata": {},
     "output_type": "execute_result"
    }
   ],
   "source": [
    "# Insert sample data into teachers table\n",
    "teachers_data = [\n",
    "    (1, 'Dr. Sharma', 1),\n",
    "    (2, 'Dr. Rao', 2),\n",
    "    (3, 'Dr. Mehta', 3),\n",
    "    (4, 'Dr. Iyer', 4),\n",
    "    (5, 'Dr. Gupta', None)  # No department assigned\n",
    "]\n",
    "cursor.executemany('INSERT INTO teachers (teacher_id, name, department_id) VALUES (?, ?, ?)', teachers_data)"
   ]
  },
  {
   "cell_type": "markdown",
   "id": "fb9876a3-17ce-4792-92bb-61f7a238c7f5",
   "metadata": {},
   "source": [
    "**15. Commit to inset data**"
   ]
  },
  {
   "cell_type": "code",
   "execution_count": 70,
   "id": "d1bae54e-6a56-4a5d-bf50-fd8052a1b490",
   "metadata": {},
   "outputs": [
    {
     "name": "stdout",
     "output_type": "stream",
     "text": [
      "Data inserted successfully.\n"
     ]
    }
   ],
   "source": [
    "# Commit the inserts\n",
    "conn.commit()\n",
    "print(\"Data inserted successfully.\")\n"
   ]
  },
  {
   "cell_type": "markdown",
   "id": "e42b75a8-c170-4164-bb7c-be1d1ef9d878",
   "metadata": {},
   "source": [
    "**16. Display the `students` table inserted data**"
   ]
  },
  {
   "cell_type": "code",
   "execution_count": 73,
   "id": "f3a2a2d5-fdd4-49d9-a164-1ae122d26c4d",
   "metadata": {},
   "outputs": [
    {
     "name": "stdout",
     "output_type": "stream",
     "text": [
      "Students Data:\n",
      "(1, 'Aarav', 21, 'Male')\n",
      "(2, 'Isha', 22, 'Female')\n",
      "(3, 'Rohit', 23, 'Male')\n",
      "(4, 'Neha', 20, 'Female')\n",
      "(5, 'Amit', 22, 'Male')\n",
      "(6, 'Priya', 21, 'Female')\n",
      "(7, 'Kunal', 24, 'Male')\n",
      "(8, 'Sita', 23, 'Female')\n",
      "(9, 'Arjun', 20, 'Male')\n",
      "(10, 'Radha', 22, 'Female')\n"
     ]
    }
   ],
   "source": [
    "# Query and display the students table\n",
    "cursor.execute(\"SELECT * FROM students;\")\n",
    "students = cursor.fetchall()\n",
    "print(\"Students Data:\")\n",
    "for students in students_data:\n",
    "    print(students)"
   ]
  },
  {
   "cell_type": "markdown",
   "id": "89c1f7fd-db30-4c16-8128-8f61bb3644be",
   "metadata": {},
   "source": [
    "**17. Display the `courses` table inserted data**"
   ]
  },
  {
   "cell_type": "code",
   "execution_count": 78,
   "id": "9993a9ea-24cd-4d5f-859e-5c5ba00551df",
   "metadata": {},
   "outputs": [
    {
     "name": "stdout",
     "output_type": "stream",
     "text": [
      "Courses Data:\n",
      "(1, 'Mathematics', '3 Months')\n",
      "(2, 'Physics', '4 Months')\n",
      "(3, 'Chemistry', '2 Months')\n",
      "(4, 'Biology', '3 Months')\n",
      "(5, 'Computer Science', '6 Months')\n"
     ]
    }
   ],
   "source": [
    "# Query and display the courses table\n",
    "cursor.execute(\"SELECT * FROM courses;\")\n",
    "courses = cursor.fetchall()\n",
    "print(\"Courses Data:\")\n",
    "for courses in courses_data:\n",
    "    print(courses)"
   ]
  },
  {
   "cell_type": "markdown",
   "id": "29ca228d-3955-4dbf-9b03-f8de0baf5901",
   "metadata": {},
   "source": [
    "**18. Display the `enrollments` table inserted data**"
   ]
  },
  {
   "cell_type": "code",
   "execution_count": 80,
   "id": "832cc387-9b5e-46a3-950e-6b72f3b04781",
   "metadata": {},
   "outputs": [
    {
     "name": "stdout",
     "output_type": "stream",
     "text": [
      "Enrollments Data:\n",
      "(1, 1, 1, 'A')\n",
      "(2, 2, 2, 'B')\n",
      "(3, 3, 3, 'C')\n",
      "(4, 4, 1, 'B')\n",
      "(5, 5, 2, 'A')\n",
      "(6, 6, 5, 'A')\n",
      "(7, 7, 4, 'B')\n",
      "(8, 8, 3, 'C')\n",
      "(9, 9, 5, 'B')\n",
      "(10, 10, 1, 'A')\n"
     ]
    }
   ],
   "source": [
    "# Query and display the enrollments table\n",
    "cursor.execute(\"SELECT * FROM enrollments;\")\n",
    "enrollments = cursor.fetchall()\n",
    "print(\"Enrollments Data:\")\n",
    "for enrollments in enrollments_data:\n",
    "    print(enrollments)"
   ]
  },
  {
   "cell_type": "markdown",
   "id": "760048b1-a80e-4821-9417-fe2a6cc7e9d5",
   "metadata": {},
   "source": [
    "**19. Display the `departments` table inserted data**"
   ]
  },
  {
   "cell_type": "code",
   "execution_count": 96,
   "id": "e16f7b3a-7b94-4ce2-914c-97d90bac2f8d",
   "metadata": {},
   "outputs": [
    {
     "name": "stdout",
     "output_type": "stream",
     "text": [
      "Departments Data:\n",
      "(1, 'Mathematics')\n",
      "(2, 'Physics')\n",
      "(3, 'Chemistry')\n",
      "(4, 'Computer Science')\n",
      "(5, 'Biology')\n"
     ]
    }
   ],
   "source": [
    "# Query and display the departments table\n",
    "cursor.execute(\"SELECT * FROM departments;\")\n",
    "departments = cursor.fetchall()\n",
    "print(\"Departments Data:\")\n",
    "for departments in departments_data:\n",
    "    print(departments)"
   ]
  },
  {
   "cell_type": "markdown",
   "id": "d6266ac8-951c-4b96-9afc-5d852db2e08f",
   "metadata": {},
   "source": [
    "**20. Display the `teachers` table inserted data**"
   ]
  },
  {
   "cell_type": "code",
   "execution_count": 98,
   "id": "6e1a80ba-ae26-4cee-bc35-fe11ae93aaaf",
   "metadata": {},
   "outputs": [
    {
     "name": "stdout",
     "output_type": "stream",
     "text": [
      "Teachers Data:\n",
      "(1, 'Dr. Sharma', 1)\n",
      "(2, 'Dr. Rao', 2)\n",
      "(3, 'Dr. Mehta', 3)\n",
      "(4, 'Dr. Iyer', 4)\n",
      "(5, 'Dr. Gupta', None)\n"
     ]
    }
   ],
   "source": [
    "# Query and display the teachers table\n",
    "cursor.execute(\"SELECT * FROM teachers;\")\n",
    "teachers = cursor.fetchall()\n",
    "print(\"Teachers Data:\")\n",
    "for teachers in teachers_data:\n",
    "    print(teachers)"
   ]
  },
  {
   "cell_type": "markdown",
   "id": "26ff3509-f2b6-4a02-9b81-b8c05b634497",
   "metadata": {},
   "source": [
    "## JOIN Queries:\n",
    "\n",
    "  - `JOINs` allow us to combine rows from two or more tables based on a related column between them.\n",
    "  - `INNER JOIN`, `LEFT JOIN`, `RIGHT JOIN` (Simulated in SQLite), `FULL OUTER JOIN` (Simulated)"
   ]
  },
  {
   "cell_type": "markdown",
   "id": "fc937643-697f-4e8a-856b-dc15291be9ce",
   "metadata": {},
   "source": [
    "| Join Type        | Purpose                                              | Result                                        |\n",
    "|------------------|------------------------------------------------------|-----------------------------------------------|\n",
    "| **INNER JOIN**   | Returns only the matching rows from both tables       | Records with matching values only             |\n",
    "| **LEFT JOIN**    | Returns all rows from the left table and matched rows from the right | Non-matching right rows will be NULL          |\n",
    "| **RIGHT JOIN**   | (Not available in SQLite; achieved using LEFT JOIN in reverse) | N/A                                           |\n",
    "| **FULL OUTER JOIN** | Combines all matching and non-matching rows from both tables | Not supported in SQLite directly              |\n",
    "| **CROSS JOIN**   | Produces a Cartesian product of both tables           | Every combination of rows                    |"
   ]
  },
  {
   "cell_type": "markdown",
   "id": "fb2a993a-d0a0-43d2-883d-4150e888a2ae",
   "metadata": {},
   "source": [
    "**1. `INNER JOIN`: Find all students and their enrolled courses**"
   ]
  },
  {
   "cell_type": "code",
   "execution_count": 100,
   "id": "ce62d39a-862c-408e-9b0f-fbbb4912cd65",
   "metadata": {},
   "outputs": [],
   "source": [
    "# INNER JOIN: Students and their enrolled courses\n",
    "cursor.execute('''\n",
    "SELECT students.name, courses.course_name, enrollments.grade\n",
    "FROM enrollments\n",
    "INNER JOIN students ON enrollments.student_id = students.student_id\n",
    "INNER JOIN courses ON enrollments.course_id = courses.course_id;\n",
    "''')\n",
    "result = cursor.fetchall()"
   ]
  },
  {
   "cell_type": "markdown",
   "id": "c10e810b-ed2d-4bbf-9823-d465a41af50e",
   "metadata": {},
   "source": [
    "**Print the Result of all the students and their enrolled courses**"
   ]
  },
  {
   "cell_type": "code",
   "execution_count": 106,
   "id": "491a6d87-7266-4a4e-a58c-9ffed13dbc8a",
   "metadata": {},
   "outputs": [
    {
     "name": "stdout",
     "output_type": "stream",
     "text": [
      "Inner Join Result:\n",
      "Name: Aarav, Course Name: Mathematics, Grade: A\n",
      "Name: Isha, Course Name: Physics, Grade: B\n",
      "Name: Rohit, Course Name: Chemistry, Grade: C\n",
      "Name: Neha, Course Name: Mathematics, Grade: B\n",
      "Name: Amit, Course Name: Physics, Grade: A\n",
      "Name: Priya, Course Name: Computer Science, Grade: A\n",
      "Name: Kunal, Course Name: Biology, Grade: B\n",
      "Name: Sita, Course Name: Chemistry, Grade: C\n",
      "Name: Arjun, Course Name: Computer Science, Grade: B\n",
      "Name: Radha, Course Name: Mathematics, Grade: A\n"
     ]
    }
   ],
   "source": [
    "# Print the results in a readable format\n",
    "print(\"Inner Join Result:\")\n",
    "for row in result:\n",
    "    print(f\"Name: {row[0]}, Course Name: {row[1]}, Grade: {row[2]}\")"
   ]
  },
  {
   "cell_type": "markdown",
   "id": "9ef3890e-d0c3-4ede-bb89-4dec29451346",
   "metadata": {},
   "source": [
    "**2. `LEFT JOIN`: List all students and their enrollments (even if not enrolled in any course).**"
   ]
  },
  {
   "cell_type": "code",
   "execution_count": 109,
   "id": "2c1f5860-2772-4bd8-9ea3-7a87cd053d36",
   "metadata": {},
   "outputs": [],
   "source": [
    "# LEFT JOIN: Students and their enrolled courses (including those without enrollments)\n",
    "cursor.execute('''\n",
    "SELECT students.name, courses.course_name, enrollments.grade\n",
    "FROM students\n",
    "LEFT JOIN enrollments ON students.student_id = enrollments.student_id\n",
    "LEFT JOIN courses ON enrollments.course_id = courses.course_id;\n",
    "''')\n",
    "result = cursor.fetchall()"
   ]
  },
  {
   "cell_type": "markdown",
   "id": "b0865472-0dcd-4653-8baa-2de39f0a1919",
   "metadata": {},
   "source": [
    "**Print the result of all students and their enrolled courses**"
   ]
  },
  {
   "cell_type": "code",
   "execution_count": 113,
   "id": "7e3df8f0-83fe-4fbe-b2df-9eb063e29086",
   "metadata": {},
   "outputs": [
    {
     "name": "stdout",
     "output_type": "stream",
     "text": [
      "Left Join Result:\n",
      " Name: Aarav, Course Name: Mathematics, Grade: A\n",
      " Name: Isha, Course Name: Physics, Grade: B\n",
      " Name: Rohit, Course Name: Chemistry, Grade: C\n",
      " Name: Neha, Course Name: Mathematics, Grade: B\n",
      " Name: Amit, Course Name: Physics, Grade: A\n",
      " Name: Priya, Course Name: Computer Science, Grade: A\n",
      " Name: Kunal, Course Name: Biology, Grade: B\n",
      " Name: Sita, Course Name: Chemistry, Grade: C\n",
      " Name: Arjun, Course Name: Computer Science, Grade: B\n",
      " Name: Radha, Course Name: Mathematics, Grade: A\n"
     ]
    }
   ],
   "source": [
    "# Print the results in a readable format\n",
    "print(\"Left Join Result:\")\n",
    "for row in result:\n",
    "    print(f\" Name: {row[0]}, Course Name: {row[1] if row[1] else 'None'}, Grade: {row[2] if row[2] else 'None'}\")"
   ]
  },
  {
   "cell_type": "markdown",
   "id": "ba6d8c1c-7522-45f0-ace0-abfdfadeb505",
   "metadata": {},
   "source": [
    "**3. `RIGHT JOIN`: Since SQLite doesn't directly support RIGHT JOIN, we can emulate it by swapping the tables in a LEFT JOIN.**"
   ]
  },
  {
   "cell_type": "code",
   "execution_count": 115,
   "id": "1ad4aecd-ec2c-435b-97eb-c4f3da109a57",
   "metadata": {},
   "outputs": [],
   "source": [
    "# RIGHT JOIN equivalent: Departments and their assigned teachers (including departments without any teachers)\n",
    "cursor.execute('''\n",
    "SELECT teachers.name, departments.department_name\n",
    "FROM departments\n",
    "LEFT JOIN teachers ON departments.department_id = teachers.department_id;\n",
    "''')\n",
    "result = cursor.fetchall()"
   ]
  },
  {
   "cell_type": "markdown",
   "id": "cecfbb36-a220-4ea3-81bf-c58a1ae8a1d9",
   "metadata": {},
   "source": [
    "**Print the result of Departments and their assigned teachers**"
   ]
  },
  {
   "cell_type": "code",
   "execution_count": 117,
   "id": "50336cbf-55f2-41f6-a09b-220b93820adb",
   "metadata": {},
   "outputs": [
    {
     "name": "stdout",
     "output_type": "stream",
     "text": [
      "Right Join Result (emulated using LEFT JOIN):\n",
      "Name: Dr. Sharma, Department Name: Mathematics\n",
      "Name: Dr. Rao, Department Name: Physics\n",
      "Name: Dr. Mehta, Department Name: Chemistry\n",
      "Name: Dr. Iyer, Department Name: Computer Science\n",
      "Name: None, Department Name: Biology\n"
     ]
    }
   ],
   "source": [
    "# Print the results in a readable format\n",
    "print(\"Right Join Result (emulated using LEFT JOIN):\")\n",
    "for row in result:\n",
    "    print(f\"Name: {row[0] if row[0] else 'None'}, Department Name: {row[1]}\")"
   ]
  },
  {
   "cell_type": "markdown",
   "id": "5e0d1c4a-829d-4eb1-acf6-b5629f282ed1",
   "metadata": {},
   "source": [
    "**4. `FULL OUTER JOIN`: SQLite does not support FULL OUTER JOIN directly, but it can be emulated using a combination of LEFT JOIN and UNION.**"
   ]
  },
  {
   "cell_type": "code",
   "execution_count": 123,
   "id": "d2d91277-99f5-4dec-b2fe-5d098c163c31",
   "metadata": {},
   "outputs": [],
   "source": [
    "# FULL OUTER JOIN equivalent: Teachers and departments (showing teachers without departments and departments without teachers)\n",
    "cursor.execute('''\n",
    "SELECT teachers.name, departments.department_name\n",
    "FROM teachers\n",
    "LEFT JOIN departments ON teachers.department_id = departments.department_id\n",
    "\n",
    "UNION\n",
    "\n",
    "SELECT teachers.name, departments.department_name\n",
    "FROM departments\n",
    "LEFT JOIN teachers ON departments.department_id = teachers.department_id;\n",
    "''')\n",
    "result = cursor.fetchall()"
   ]
  },
  {
   "cell_type": "markdown",
   "id": "9e79ad4f-e4b5-4423-93e8-4cf6b57bf365",
   "metadata": {},
   "source": [
    "**Print the Teachers and Departments**"
   ]
  },
  {
   "cell_type": "code",
   "execution_count": 125,
   "id": "e53fd86d-138b-47d6-adc6-638c919de91f",
   "metadata": {},
   "outputs": [
    {
     "name": "stdout",
     "output_type": "stream",
     "text": [
      "Full Outer Join Result (emulated):\n",
      "Teacher Name: None, Department Name: Biology\n",
      "Teacher Name: Dr. Gupta, Department Name: None\n",
      "Teacher Name: Dr. Iyer, Department Name: Computer Science\n",
      "Teacher Name: Dr. Mehta, Department Name: Chemistry\n",
      "Teacher Name: Dr. Rao, Department Name: Physics\n",
      "Teacher Name: Dr. Sharma, Department Name: Mathematics\n"
     ]
    }
   ],
   "source": [
    "# Print the results in a readable format\n",
    "print(\"Full Outer Join Result (emulated):\")\n",
    "for row in result:\n",
    "    print(f\"Teacher Name: {row[0] if row[0] else 'None'}, Department Name: {row[1] if row[1] else 'None'}\")"
   ]
  },
  {
   "cell_type": "markdown",
   "id": "2882cd00-3c7e-48ba-a3c0-fdf54a03c50e",
   "metadata": {},
   "source": [
    "**5. `CROSS JOIN`: Returns the Cartesian product of both tables, i.e., every possible combination of students and courses.**"
   ]
  },
  {
   "cell_type": "code",
   "execution_count": 128,
   "id": "632cc5a8-c4ef-42b3-9acc-7812a98153bd",
   "metadata": {},
   "outputs": [],
   "source": [
    "# CROSS JOIN: Cartesian product of students and courses\n",
    "cursor.execute('''\n",
    "SELECT students.name, courses.course_name\n",
    "FROM students\n",
    "CROSS JOIN courses;\n",
    "''')\n",
    "result = cursor.fetchall()"
   ]
  },
  {
   "cell_type": "markdown",
   "id": "41623781-1edf-4386-90a1-ef2e098a4957",
   "metadata": {},
   "source": [
    "- **Print the combinations of students and courses**"
   ]
  },
  {
   "cell_type": "code",
   "execution_count": 132,
   "id": "8dd42bec-b278-4ee6-9d6a-c9480aeb6e17",
   "metadata": {},
   "outputs": [
    {
     "name": "stdout",
     "output_type": "stream",
     "text": [
      "Cross Join Result (Cartesian Product):\n",
      "Name: Aarav, Course Name: Mathematics\n",
      "Name: Aarav, Course Name: Physics\n",
      "Name: Aarav, Course Name: Chemistry\n",
      "Name: Aarav, Course Name: Biology\n",
      "Name: Aarav, Course Name: Computer Science\n",
      "Name: Isha, Course Name: Mathematics\n",
      "Name: Isha, Course Name: Physics\n",
      "Name: Isha, Course Name: Chemistry\n",
      "Name: Isha, Course Name: Biology\n",
      "Name: Isha, Course Name: Computer Science\n",
      "Name: Rohit, Course Name: Mathematics\n",
      "Name: Rohit, Course Name: Physics\n",
      "Name: Rohit, Course Name: Chemistry\n",
      "Name: Rohit, Course Name: Biology\n",
      "Name: Rohit, Course Name: Computer Science\n",
      "Name: Neha, Course Name: Mathematics\n",
      "Name: Neha, Course Name: Physics\n",
      "Name: Neha, Course Name: Chemistry\n",
      "Name: Neha, Course Name: Biology\n",
      "Name: Neha, Course Name: Computer Science\n",
      "Name: Amit, Course Name: Mathematics\n",
      "Name: Amit, Course Name: Physics\n",
      "Name: Amit, Course Name: Chemistry\n",
      "Name: Amit, Course Name: Biology\n",
      "Name: Amit, Course Name: Computer Science\n",
      "Name: Priya, Course Name: Mathematics\n",
      "Name: Priya, Course Name: Physics\n",
      "Name: Priya, Course Name: Chemistry\n",
      "Name: Priya, Course Name: Biology\n",
      "Name: Priya, Course Name: Computer Science\n",
      "Name: Kunal, Course Name: Mathematics\n",
      "Name: Kunal, Course Name: Physics\n",
      "Name: Kunal, Course Name: Chemistry\n",
      "Name: Kunal, Course Name: Biology\n",
      "Name: Kunal, Course Name: Computer Science\n",
      "Name: Sita, Course Name: Mathematics\n",
      "Name: Sita, Course Name: Physics\n",
      "Name: Sita, Course Name: Chemistry\n",
      "Name: Sita, Course Name: Biology\n",
      "Name: Sita, Course Name: Computer Science\n",
      "Name: Arjun, Course Name: Mathematics\n",
      "Name: Arjun, Course Name: Physics\n",
      "Name: Arjun, Course Name: Chemistry\n",
      "Name: Arjun, Course Name: Biology\n",
      "Name: Arjun, Course Name: Computer Science\n",
      "Name: Radha, Course Name: Mathematics\n",
      "Name: Radha, Course Name: Physics\n",
      "Name: Radha, Course Name: Chemistry\n",
      "Name: Radha, Course Name: Biology\n",
      "Name: Radha, Course Name: Computer Science\n"
     ]
    }
   ],
   "source": [
    "# Print the results in a readable format\n",
    "print(\"Cross Join Result (Cartesian Product):\")\n",
    "for row in result:\n",
    "    print(f\"Name: {row[0]}, Course Name: {row[1]}\")"
   ]
  },
  {
   "cell_type": "markdown",
   "id": "33e8b08b-98c6-471d-aa2c-9ab22e07b06e",
   "metadata": {},
   "source": [
    "## Grouping and Aggregation:\n",
    "\n",
    "   - `GROUP BY` and `HAVING` clauses\n",
    "   - **Aggregate functions**:\n",
    "        - `COUNT()`,\n",
    "        - `SUM()`,\n",
    "        - `AVG()`,\n",
    "        - `MIN()`,\n",
    "        - `MAX()`\n"
   ]
  },
  {
   "cell_type": "markdown",
   "id": "57a7ec0d-3ef9-4c53-8488-628ba62fe492",
   "metadata": {},
   "source": [
    "**1. `GROUP BY Department`: Count how many teachers are in each department**"
   ]
  },
  {
   "cell_type": "code",
   "execution_count": 137,
   "id": "2010499d-9e94-4574-8624-206f8542132d",
   "metadata": {},
   "outputs": [],
   "source": [
    "# GROUP BY department to count how many teachers are in each department\n",
    "cursor.execute('''\n",
    "SELECT departments.department_name, COUNT(teachers.teacher_id) AS teacher_count\n",
    "FROM departments\n",
    "LEFT JOIN teachers ON departments.department_id = teachers.department_id\n",
    "GROUP BY departments.department_name;\n",
    "''')\n",
    "result = cursor.fetchall()"
   ]
  },
  {
   "cell_type": "markdown",
   "id": "6e7c246b-515b-4212-8fe8-4390b29639c1",
   "metadata": {},
   "source": [
    "- **Printing the count of teachers by departments**"
   ]
  },
  {
   "cell_type": "code",
   "execution_count": 139,
   "id": "e013333e-aba4-4d64-b18c-2f03da1cc2fc",
   "metadata": {},
   "outputs": [
    {
     "name": "stdout",
     "output_type": "stream",
     "text": [
      "Number of Teachers in Each Department (GROUP BY Department):\n",
      "Department Name: Biology, Number of Teachers: 0\n",
      "Department Name: Chemistry, Number of Teachers: 1\n",
      "Department Name: Computer Science, Number of Teachers: 1\n",
      "Department Name: Mathematics, Number of Teachers: 1\n",
      "Department Name: Physics, Number of Teachers: 1\n"
     ]
    }
   ],
   "source": [
    "# Print the result in a readable format\n",
    "print(\"Number of Teachers in Each Department (GROUP BY Department):\")\n",
    "for row in result:\n",
    "    print(f\"Department Name: {row[0]}, Number of Teachers: {row[1]}\")"
   ]
  },
  {
   "cell_type": "markdown",
   "id": "4f745974-042b-44de-8d0b-773816c414da",
   "metadata": {},
   "source": [
    "**2.  `GROUP BY` and `Aggregate Functions Together`: Calculate the average grade for each course**"
   ]
  },
  {
   "cell_type": "code",
   "execution_count": 143,
   "id": "f11e635d-7220-4886-8e7b-8a2723ff277a",
   "metadata": {},
   "outputs": [],
   "source": [
    "# GROUP BY course to calculate the average grade for each course\n",
    "cursor.execute('''\n",
    "SELECT courses.course_name, AVG(\n",
    "    CASE\n",
    "        WHEN enrollments.grade = 'A' THEN 4\n",
    "        WHEN enrollments.grade = 'B' THEN 3\n",
    "        WHEN enrollments.grade = 'C' THEN 2\n",
    "        ELSE 0\n",
    "    END\n",
    ") AS average_grade\n",
    "FROM courses\n",
    "LEFT JOIN enrollments ON courses.course_id = enrollments.course_id\n",
    "GROUP BY courses.course_name;\n",
    "''')\n",
    "result = cursor.fetchall()"
   ]
  },
  {
   "cell_type": "markdown",
   "id": "e36c3ce9-4127-47db-bdb1-545c0901c471",
   "metadata": {},
   "source": [
    "- **Print the course and its Average grade**"
   ]
  },
  {
   "cell_type": "code",
   "execution_count": 145,
   "id": "343d3a5c-0ca2-47ba-a2d1-4f5ce5954f49",
   "metadata": {},
   "outputs": [
    {
     "name": "stdout",
     "output_type": "stream",
     "text": [
      "Average Grade for Each Course (GROUP BY Course):\n",
      "Course Name: Biology, Average Grade: 3.00\n",
      "Course Name: Chemistry, Average Grade: 2.00\n",
      "Course Name: Computer Science, Average Grade: 3.50\n",
      "Course Name: Mathematics, Average Grade: 3.67\n",
      "Course Name: Physics, Average Grade: 3.50\n"
     ]
    }
   ],
   "source": [
    "# Print the result in a readable format\n",
    "print(\"Average Grade for Each Course (GROUP BY Course):\")\n",
    "for row in result:\n",
    "    print(f\"Course Name: {row[0]}, Average Grade: {row[1]:.2f}\")"
   ]
  },
  {
   "cell_type": "markdown",
   "id": "11683533-836e-4e1c-93aa-6dfc852fbcd5",
   "metadata": {},
   "source": [
    "**3. `HAVING`: Filter the results using a HAVING clause. For example, show only courses where the average grade is greater than 2.5.**"
   ]
  },
  {
   "cell_type": "code",
   "execution_count": 153,
   "id": "af4dba80-f6ad-4318-8716-cd81db30e698",
   "metadata": {},
   "outputs": [],
   "source": [
    "# GROUP BY course and use HAVING to filter courses with an average grade > 2.5\n",
    "cursor.execute('''\n",
    "SELECT courses.course_name, AVG(\n",
    "    CASE\n",
    "        WHEN enrollments.grade = 'A' THEN 4\n",
    "        WHEN enrollments.grade = 'B' THEN 3\n",
    "        WHEN enrollments.grade = 'C' THEN 2\n",
    "        ELSE 0\n",
    "    END\n",
    ") AS average_grade\n",
    "FROM courses\n",
    "LEFT JOIN enrollments ON courses.course_id = enrollments.course_id\n",
    "GROUP BY courses.course_name\n",
    "HAVING average_grade > 2.5;\n",
    "''')\n",
    "result = cursor.fetchall()"
   ]
  },
  {
   "cell_type": "markdown",
   "id": "4ce34b6d-09ad-450a-ae89-114af600ff74",
   "metadata": {},
   "source": [
    "- **Print the course having Average grade above 2.5**"
   ]
  },
  {
   "cell_type": "code",
   "execution_count": 156,
   "id": "f749af63-fd66-4acb-a7ab-44347b67916c",
   "metadata": {},
   "outputs": [
    {
     "name": "stdout",
     "output_type": "stream",
     "text": [
      "Courses with Average Grade Greater Than 2.5:\n",
      "Course Name: Biology, Average Grade: 3.00\n",
      "Course Name: Computer Science, Average Grade: 3.50\n",
      "Course Name: Mathematics, Average Grade: 3.67\n",
      "Course Name: Physics, Average Grade: 3.50\n"
     ]
    }
   ],
   "source": [
    "# Print the result in a readable format\n",
    "print(\"Courses with Average Grade Greater Than 2.5:\")\n",
    "for row in result:\n",
    "    print(f\"Course Name: {row[0]}, Average Grade: {row[1]:.2f}\")\n"
   ]
  },
  {
   "cell_type": "markdown",
   "id": "42442858-b20b-4c0b-ac66-a83f642b3d4b",
   "metadata": {},
   "source": [
    "**4. `COUNT()`: Count how many students are enrolled in each course**"
   ]
  },
  {
   "cell_type": "code",
   "execution_count": null,
   "id": "48048d58-87d9-4f82-b473-7b52b7c47617",
   "metadata": {},
   "outputs": [],
   "source": [
    "# GROUP BY course to count the number of students enrolled in each course\n",
    "cursor.execute('''\n",
    "SELECT courses.course_name, COUNT(enrollments.student_id) AS student_count\n",
    "FROM courses\n",
    "LEFT JOIN enrollments ON courses.course_id = enrollments.course_id\n",
    "GROUP BY courses.course_name;\n",
    "''')\n",
    "result = cursor.fetchall()"
   ]
  },
  {
   "cell_type": "markdown",
   "id": "ff241008-13d3-4523-98e6-a9f9875573f7",
   "metadata": {},
   "source": [
    "- **Print the result of students enrolled in each course**"
   ]
  },
  {
   "cell_type": "code",
   "execution_count": 160,
   "id": "be228f5c-54f3-4393-ac71-e32e30fea80c",
   "metadata": {},
   "outputs": [
    {
     "name": "stdout",
     "output_type": "stream",
     "text": [
      "Number of Students Enrolled in Each Course:\n",
      "Course Name: Biology, Number of Students: 3.0\n",
      "Course Name: Computer Science, Number of Students: 3.5\n",
      "Course Name: Mathematics, Number of Students: 3.6666666666666665\n",
      "Course Name: Physics, Number of Students: 3.5\n"
     ]
    }
   ],
   "source": [
    "# Print the result in a readable format\n",
    "print(\"Number of Students Enrolled in Each Course:\")\n",
    "for row in result:\n",
    "    print(f\"Course Name: {row[0]}, Number of Students: {row[1]}\")"
   ]
  },
  {
   "cell_type": "markdown",
   "id": "8714ff4b-ae6b-44d0-97c8-c10802387bf8",
   "metadata": {},
   "source": [
    "**5. `SUM()`: Calculate the total number of courses each student is enrolled in**"
   ]
  },
  {
   "cell_type": "code",
   "execution_count": 164,
   "id": "a892cc9f-aed2-45c7-b862-d2006ba3c2df",
   "metadata": {},
   "outputs": [],
   "source": [
    "# GROUP BY student to calculate the total number of courses each student is enrolled in\n",
    "cursor.execute('''\n",
    "SELECT students.name, COUNT(enrollments.course_id) AS total_courses\n",
    "FROM students\n",
    "LEFT JOIN enrollments ON students.student_id = enrollments.student_id\n",
    "GROUP BY students.name;\n",
    "''')\n",
    "result = cursor.fetchall()"
   ]
  },
  {
   "cell_type": "markdown",
   "id": "c80bf043-8ede-41a9-9f52-7845d228ac0e",
   "metadata": {},
   "source": [
    "- **Print the total number of courses and each student enrolled in**"
   ]
  },
  {
   "cell_type": "code",
   "execution_count": 166,
   "id": "708778bb-693a-4a10-9987-6e36b80824e5",
   "metadata": {},
   "outputs": [
    {
     "name": "stdout",
     "output_type": "stream",
     "text": [
      "Total Number of Courses Each Student Is Enrolled In:\n",
      "Student Name: Aarav, Total Courses: 1\n",
      "Student Name: Amit, Total Courses: 1\n",
      "Student Name: Arjun, Total Courses: 1\n",
      "Student Name: Isha, Total Courses: 1\n",
      "Student Name: Kunal, Total Courses: 1\n",
      "Student Name: Neha, Total Courses: 1\n",
      "Student Name: Priya, Total Courses: 1\n",
      "Student Name: Radha, Total Courses: 1\n",
      "Student Name: Rohit, Total Courses: 1\n",
      "Student Name: Sita, Total Courses: 1\n"
     ]
    }
   ],
   "source": [
    "# Print the result in a readable format\n",
    "print(\"Total Number of Courses Each Student Is Enrolled In:\")\n",
    "for row in result:\n",
    "    print(f\"Student Name: {row[0]}, Total Courses: {row[1]}\")"
   ]
  },
  {
   "cell_type": "markdown",
   "id": "9679c293-d482-4c79-8f4a-785ac1bd3dce",
   "metadata": {},
   "source": [
    " **6. `AVG()`: Calculate the average grade for each course (assuming grades are represented as A=4, B=3, C=2, etc.)**\n",
    " \n",
    "   - For this, we'll use a CASE statement to convert grades into numeric values."
   ]
  },
  {
   "cell_type": "code",
   "execution_count": 173,
   "id": "bd4401e0-a095-4f09-8586-8c5a63e80282",
   "metadata": {},
   "outputs": [],
   "source": [
    "# GROUP BY course to calculate the average grade for each course\n",
    "cursor.execute('''\n",
    "SELECT courses.course_name, AVG(\n",
    "    CASE\n",
    "        WHEN enrollments.grade = 'A' THEN 4\n",
    "        WHEN enrollments.grade = 'B' THEN 3\n",
    "        WHEN enrollments.grade = 'C' THEN 2\n",
    "        ELSE 0\n",
    "    END\n",
    ") AS average_grade\n",
    "FROM courses\n",
    "LEFT JOIN enrollments ON courses.course_id = enrollments.course_id\n",
    "GROUP BY courses.course_name;\n",
    "''')\n",
    "result = cursor.fetchall()"
   ]
  },
  {
   "cell_type": "markdown",
   "id": "b638bcc3-0305-4c58-badc-31267154635a",
   "metadata": {},
   "source": [
    "- **Print Average grade**"
   ]
  },
  {
   "cell_type": "code",
   "execution_count": 175,
   "id": "5e5e7df5-1415-4080-b5f7-b1b4295599e3",
   "metadata": {},
   "outputs": [
    {
     "name": "stdout",
     "output_type": "stream",
     "text": [
      "Average Grade for Each Course:\n",
      "Course Name: Biology, Average Grade: 3.00\n",
      "Course Name: Chemistry, Average Grade: 2.00\n",
      "Course Name: Computer Science, Average Grade: 3.50\n",
      "Course Name: Mathematics, Average Grade: 3.67\n",
      "Course Name: Physics, Average Grade: 3.50\n"
     ]
    }
   ],
   "source": [
    "# Print the result in a readable format\n",
    "print(\"Average Grade for Each Course:\")\n",
    "for row in result:\n",
    "    print(f\"Course Name: {row[0]}, Average Grade: {row[1]:.2f}\")"
   ]
  },
  {
   "cell_type": "markdown",
   "id": "8cbb4d0b-f608-40f6-a857-e21c95112432",
   "metadata": {},
   "source": [
    "7. `MIN()` and `MAX()`: Find the minimum and maximum grades for each course"
   ]
  },
  {
   "cell_type": "code",
   "execution_count": 186,
   "id": "0534ba5b-5d8f-4d06-bc7d-dce9fe670818",
   "metadata": {},
   "outputs": [],
   "source": [
    "# GROUP BY course to find the minimum and maximum grade\n",
    "cursor.execute('''\n",
    "SELECT courses.course_name,\n",
    "    MIN(CASE\n",
    "            WHEN enrollments.grade = 'A' THEN 4\n",
    "            WHEN enrollments.grade = 'B' THEN 3\n",
    "            WHEN enrollments.grade = 'C' THEN 2\n",
    "            ELSE 0\n",
    "        END) AS min_grade,\n",
    "    MAX(CASE\n",
    "            WHEN enrollments.grade = 'A' THEN 4\n",
    "            WHEN enrollments.grade = 'B' THEN 3\n",
    "            WHEN enrollments.grade = 'C' THEN 2\n",
    "            ELSE 0\n",
    "        END) AS max_grade\n",
    "FROM courses\n",
    "LEFT JOIN enrollments ON courses.course_id = enrollments.course_id\n",
    "GROUP BY courses.course_name;\n",
    "''')\n",
    "result = cursor.fetchall()"
   ]
  },
  {
   "cell_type": "markdown",
   "id": "a41155ab-297a-46e9-a953-aad5b0361cb3",
   "metadata": {},
   "source": [
    "- **Print the Maximum and Minimum Grades**"
   ]
  },
  {
   "cell_type": "code",
   "execution_count": 188,
   "id": "864db27f-66a9-4288-b24f-34a97c28d24c",
   "metadata": {},
   "outputs": [
    {
     "name": "stdout",
     "output_type": "stream",
     "text": [
      "Minimum and Maximum Grades for Each Course:\n",
      "Course Name: Biology, Min Grade: 3, Max Grade: 3\n",
      "Course Name: Chemistry, Min Grade: 2, Max Grade: 2\n",
      "Course Name: Computer Science, Min Grade: 3, Max Grade: 4\n",
      "Course Name: Mathematics, Min Grade: 3, Max Grade: 4\n",
      "Course Name: Physics, Min Grade: 3, Max Grade: 4\n"
     ]
    }
   ],
   "source": [
    "# Print the result in a readable format\n",
    "print(\"Minimum and Maximum Grades for Each Course:\")\n",
    "for row in result:\n",
    "    print(f\"Course Name: {row[0]}, Min Grade: {row[1]}, Max Grade: {row[2]}\")"
   ]
  },
  {
   "cell_type": "markdown",
   "id": "800e7cce-b080-4cf3-bc86-96df4340f530",
   "metadata": {},
   "source": [
    "**21. Close the connection**"
   ]
  },
  {
   "cell_type": "code",
   "execution_count": 33,
   "id": "f13ab4f4-e3d8-4273-a482-45a1fe4d589f",
   "metadata": {},
   "outputs": [
    {
     "name": "stdout",
     "output_type": "stream",
     "text": [
      "Database connection closed.\n"
     ]
    }
   ],
   "source": [
    "# Close the database connection\n",
    "connection.close()\n",
    "print(\"Database connection closed.\")"
   ]
  },
  {
   "cell_type": "markdown",
   "id": "73d195f6-9cb1-4ca5-ae13-325ebdaae094",
   "metadata": {},
   "source": [
    "# Q&A"
   ]
  },
  {
   "cell_type": "markdown",
   "id": "41753db1-24ff-4096-a07e-b50199f83a13",
   "metadata": {},
   "source": [
    "1. What are the different types of JOINs available in SQL?"
   ]
  },
  {
   "cell_type": "markdown",
   "id": "d36a3e6d-77f7-4627-afcc-ca4d82a84317",
   "metadata": {},
   "source": [
    "2. How can you group records in SQL to perform aggregate calculations?"
   ]
  },
  {
   "cell_type": "markdown",
   "id": "fad701bf-218b-4dd7-b7d5-1ed5e5404c8f",
   "metadata": {},
   "source": [
    "3. What is the difference between the WHERE clause and the HAVING clause?"
   ]
  },
  {
   "cell_type": "markdown",
   "id": "a4177f81-462c-4281-8530-58d012a924fa",
   "metadata": {},
   "source": [
    "4. How would you use the HAVING clause in an SQL query?"
   ]
  }
 ],
 "metadata": {
  "kernelspec": {
   "display_name": "Python 3 (ipykernel)",
   "language": "python",
   "name": "python3"
  },
  "language_info": {
   "codemirror_mode": {
    "name": "ipython",
    "version": 3
   },
   "file_extension": ".py",
   "mimetype": "text/x-python",
   "name": "python",
   "nbconvert_exporter": "python",
   "pygments_lexer": "ipython3",
   "version": "3.12.4"
  }
 },
 "nbformat": 4,
 "nbformat_minor": 5
}
