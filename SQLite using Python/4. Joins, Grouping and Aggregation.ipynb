{
 "cells": [
  {
   "cell_type": "markdown",
   "id": "10dcd4f6-2e91-4b96-9f3d-40d63c9ea2c3",
   "metadata": {},
   "source": [
    "# Advanced SQL Queries\t"
   ]
  },
  {
   "cell_type": "markdown",
   "id": "fba47ce2-8ced-4d1b-a0a8-e3e2b21cd6c1",
   "metadata": {},
   "source": [
    "We are going to learn Joins, grouping and aggrgation with a small project of **School Management Database**. Which will contain tables `students`, `courses` and `enrollments`"
   ]
  },
  {
   "cell_type": "markdown",
   "id": "e9b193e5-c9dc-4315-bd44-6e91df52b0bc",
   "metadata": {},
   "source": [
    "1. Create a new database"
   ]
  },
  {
   "cell_type": "code",
   "execution_count": 41,
   "id": "ecf5b93b-f16a-4a86-b2a3-f7e0ab3487cd",
   "metadata": {},
   "outputs": [],
   "source": [
    "import sqlite3"
   ]
  },
  {
   "cell_type": "code",
   "execution_count": 51,
   "id": "c1352975-b424-461a-a520-8c2dee0ef531",
   "metadata": {},
   "outputs": [],
   "source": [
    "# Create the database and connect\n",
    "conn = sqlite3.connect('School_Mngt.db')\n",
    "cursor = conn.cursor()"
   ]
  },
  {
   "cell_type": "code",
   "execution_count": 53,
   "id": "c646d90f-4d64-4b3f-b1d8-f5726f4f8448",
   "metadata": {},
   "outputs": [],
   "source": [
    "import os"
   ]
  },
  {
   "cell_type": "markdown",
   "id": "fe098739-a906-4f29-ac3e-babc68072d08",
   "metadata": {},
   "source": [
    "2. See the list of Databases "
   ]
  },
  {
   "cell_type": "code",
   "execution_count": 55,
   "id": "b154a6c8-ece6-4328-8e5b-19980e92f81e",
   "metadata": {},
   "outputs": [
    {
     "name": "stdout",
     "output_type": "stream",
     "text": [
      "Databases: ['sample_database.db', 'school.db', 'school_management.db', 'School_Mngt.db', 'student_database.db']\n"
     ]
    }
   ],
   "source": [
    "# List all .db files in the current directory\n",
    "databases = [f for f in os.listdir() if f.endswith('.db')]\n",
    "print(\"Databases:\", databases)"
   ]
  },
  {
   "cell_type": "markdown",
   "id": "ed2ad3d0-5113-4f4f-b103-747a7ff83088",
   "metadata": {},
   "source": [
    "3. Create tables `students`, `courses`, `enrollments`, `teachers` and `departments`"
   ]
  },
  {
   "cell_type": "code",
   "execution_count": 57,
   "id": "57f88e6f-a26c-4958-8647-30f0dbbc1682",
   "metadata": {},
   "outputs": [
    {
     "name": "stdout",
     "output_type": "stream",
     "text": [
      "Tables created successfully.\n"
     ]
    }
   ],
   "source": [
    "# Create students table\n",
    "cursor.execute('''\n",
    "CREATE TABLE IF NOT EXISTS students (\n",
    "    student_id INTEGER PRIMARY KEY,\n",
    "    name TEXT NOT NULL,\n",
    "    age INTEGER,\n",
    "    gender TEXT\n",
    ");\n",
    "''')\n",
    "\n",
    "# Create courses table\n",
    "cursor.execute('''\n",
    "CREATE TABLE IF NOT EXISTS courses (\n",
    "    course_id INTEGER PRIMARY KEY,\n",
    "    course_name TEXT NOT NULL,\n",
    "    course_duration TEXT\n",
    ");\n",
    "''')\n",
    "\n",
    "# Create enrollments table with the new grade column\n",
    "cursor.execute('''\n",
    "CREATE TABLE IF NOT EXISTS enrollments (\n",
    "    enrollment_id INTEGER PRIMARY KEY,\n",
    "    student_id INTEGER,\n",
    "    course_id INTEGER,\n",
    "    grade TEXT,\n",
    "    FOREIGN KEY (student_id) REFERENCES students (student_id),\n",
    "    FOREIGN KEY (course_id) REFERENCES courses (course_id)\n",
    ");\n",
    "''')\n",
    "\n",
    "# Commit changes and close the connection\n",
    "conn.commit()\n",
    "print(\"Tables created successfully.\")"
   ]
  },
  {
   "cell_type": "code",
   "execution_count": 109,
   "id": "e60b94d9-f034-46da-8d93-48e7c2e0c02a",
   "metadata": {},
   "outputs": [
    {
     "name": "stdout",
     "output_type": "stream",
     "text": [
      "Tables created successfully.\n"
     ]
    }
   ],
   "source": [
    "# Create teachers table\n",
    "cursor.execute('''\n",
    "CREATE TABLE IF NOT EXISTS teachers (\n",
    "    teacher_id INTEGER PRIMARY KEY,\n",
    "    name TEXT NOT NULL,\n",
    "    department_id INTEGER,\n",
    "    FOREIGN KEY (department_id) REFERENCES departments(department_id)\n",
    ");\n",
    "''')\n",
    "\n",
    "# Create departments table\n",
    "cursor.execute('''\n",
    "CREATE TABLE IF NOT EXISTS departments (\n",
    "    department_id INTEGER PRIMARY KEY,\n",
    "    department_name TEXT NOT NULL\n",
    ");\n",
    "''')\n",
    "# Commit changes and close the connection\n",
    "conn.commit()\n",
    "print(\"Tables created successfully.\")"
   ]
  },
  {
   "cell_type": "markdown",
   "id": "39f225a6-407b-4edc-9052-f2413c2f6edc",
   "metadata": {},
   "source": [
    "4. List the tables"
   ]
  },
  {
   "cell_type": "code",
   "execution_count": 111,
   "id": "bdfa166a-a0f7-4d0a-81ff-e206eb2dfada",
   "metadata": {},
   "outputs": [
    {
     "name": "stdout",
     "output_type": "stream",
     "text": [
      "List of Tables:\n",
      "students\n",
      "courses\n",
      "enrollments\n",
      "teachers\n",
      "departments\n"
     ]
    }
   ],
   "source": [
    "cursor.execute(\"SELECT name FROM sqlite_master WHERE type='table';\")\n",
    "tables = cursor.fetchall()\n",
    "\n",
    "print(\"List of Tables:\")\n",
    "for table in tables:\n",
    "    print(table[0])"
   ]
  },
  {
   "cell_type": "markdown",
   "id": "d06f8c88-ff47-42a6-8faf-898275458851",
   "metadata": {},
   "source": [
    "5. Inset sample data into tables"
   ]
  },
  {
   "cell_type": "code",
   "execution_count": 63,
   "id": "18715971-5cdb-453a-adf1-5fee3a4eea0b",
   "metadata": {},
   "outputs": [
    {
     "name": "stdout",
     "output_type": "stream",
     "text": [
      "Sample data inserted successfully.\n"
     ]
    }
   ],
   "source": [
    "# Insert sample data into students table\n",
    "students_data = [\n",
    "    (1, 'Aarav', 21, 'Male'),\n",
    "    (2, 'Isha', 22, 'Female'),\n",
    "    (3, 'Rohit', 23, 'Male'),\n",
    "    (4, 'Neha', 20, 'Female'),\n",
    "    (5, 'Amit', 22, 'Male'),\n",
    "    (6, 'Priya', 21, 'Female'),\n",
    "    (7, 'Kunal', 24, 'Male'),\n",
    "    (8, 'Sita', 23, 'Female'),\n",
    "    (9, 'Arjun', 20, 'Male'),\n",
    "    (10, 'Radha', 22, 'Female')\n",
    "]\n",
    "cursor.executemany('INSERT INTO students (student_id, name, age, gender) VALUES (?, ?, ?, ?)', students_data)\n",
    "\n",
    "# Insert sample data into courses table\n",
    "courses_data = [\n",
    "    (1, 'Mathematics', '3 Months'),\n",
    "    (2, 'Physics', '4 Months'),\n",
    "    (3, 'Chemistry', '2 Months'),\n",
    "    (4, 'Biology', '3 Months'),\n",
    "    (5, 'Computer Science', '6 Months')\n",
    "]\n",
    "cursor.executemany('INSERT INTO courses (course_id, course_name, course_duration) VALUES (?, ?, ?)', courses_data)\n",
    "\n",
    "# Insert sample data into enrollments table\n",
    "enrollments_data = [\n",
    "    (1, 1, 1, 'A'),\n",
    "    (2, 2, 2, 'B'),\n",
    "    (3, 3, 3, 'C'),\n",
    "    (4, 4, 1, 'B'),\n",
    "    (5, 5, 2, 'A'),\n",
    "    (6, 6, 5, 'A'),\n",
    "    (7, 7, 4, 'B'),\n",
    "    (8, 8, 3, 'C'),\n",
    "    (9, 9, 5, 'B'),\n",
    "    (10, 10, 1, 'A')\n",
    "]\n",
    "cursor.executemany('INSERT INTO enrollments (enrollment_id, student_id, course_id, grade) VALUES (?, ?, ?, ?)', enrollments_data)\n",
    "\n",
    "# Commit the inserts\n",
    "conn.commit()\n",
    "print(\"Sample data inserted successfully.\")"
   ]
  },
  {
   "cell_type": "code",
   "execution_count": 113,
   "id": "d1bae54e-6a56-4a5d-bf50-fd8052a1b490",
   "metadata": {},
   "outputs": [
    {
     "name": "stdout",
     "output_type": "stream",
     "text": [
      "Teachers and departments data inserted successfully.\n"
     ]
    }
   ],
   "source": [
    "# Insert sample data into departments table\n",
    "departments_data = [\n",
    "    (1, 'Mathematics'),\n",
    "    (2, 'Physics'),\n",
    "    (3, 'Chemistry'),\n",
    "    (4, 'Computer Science'),\n",
    "    (5, 'Biology')\n",
    "]\n",
    "cursor.executemany('INSERT INTO departments (department_id, department_name) VALUES (?, ?)', departments_data)\n",
    "\n",
    "# Insert sample data into teachers table\n",
    "teachers_data = [\n",
    "    (1, 'Dr. Sharma', 1),\n",
    "    (2, 'Dr. Rao', 2),\n",
    "    (3, 'Dr. Mehta', 3),\n",
    "    (4, 'Dr. Iyer', 4),\n",
    "    (5, 'Dr. Gupta', None)  # No department assigned\n",
    "]\n",
    "cursor.executemany('INSERT INTO teachers (teacher_id, name, department_id) VALUES (?, ?, ?)', teachers_data)\n",
    "\n",
    "# Commit the inserts\n",
    "conn.commit()\n",
    "print(\"Teachers and departments data inserted successfully.\")\n"
   ]
  },
  {
   "cell_type": "markdown",
   "id": "e42b75a8-c170-4164-bb7c-be1d1ef9d878",
   "metadata": {},
   "source": [
    "6. Display the inserted data."
   ]
  },
  {
   "cell_type": "code",
   "execution_count": 65,
   "id": "f3a2a2d5-fdd4-49d9-a164-1ae122d26c4d",
   "metadata": {},
   "outputs": [
    {
     "name": "stdout",
     "output_type": "stream",
     "text": [
      "Students Data:\n",
      "(1, 'Aarav', 21, 'Male')\n",
      "(2, 'Isha', 22, 'Female')\n",
      "(3, 'Rohit', 23, 'Male')\n",
      "(4, 'Neha', 20, 'Female')\n",
      "(5, 'Amit', 22, 'Male')\n",
      "(6, 'Priya', 21, 'Female')\n",
      "(7, 'Kunal', 24, 'Male')\n",
      "(8, 'Sita', 23, 'Female')\n",
      "(9, 'Arjun', 20, 'Male')\n",
      "(10, 'Radha', 22, 'Female')\n",
      "Courses Data:\n",
      "(1, 'Mathematics', '3 Months')\n",
      "(2, 'Physics', '4 Months')\n",
      "(3, 'Chemistry', '2 Months')\n",
      "(4, 'Biology', '3 Months')\n",
      "(5, 'Computer Science', '6 Months')\n",
      "Enrollments Data:\n",
      "(1, 1, 1, 'A')\n",
      "(2, 2, 2, 'B')\n",
      "(3, 3, 3, 'C')\n",
      "(4, 4, 1, 'B')\n",
      "(5, 5, 2, 'A')\n",
      "(6, 6, 5, 'A')\n",
      "(7, 7, 4, 'B')\n",
      "(8, 8, 3, 'C')\n",
      "(9, 9, 5, 'B')\n",
      "(10, 10, 1, 'A')\n"
     ]
    }
   ],
   "source": [
    "# Query and display the students table\n",
    "cursor.execute(\"SELECT * FROM students;\")\n",
    "students = cursor.fetchall()\n",
    "print(\"Students Data:\")\n",
    "for students in students_data:\n",
    "    print(students)\n",
    "\n",
    "# Query and display the courses table\n",
    "cursor.execute(\"SELECT * FROM courses;\")\n",
    "courses = cursor.fetchall()\n",
    "print(\"Courses Data:\")\n",
    "for courses in courses_data:\n",
    "    print(courses)\n",
    "\n",
    "# Query and display the enrollments table\n",
    "cursor.execute(\"SELECT * FROM enrollments;\")\n",
    "enrollments = cursor.fetchall()\n",
    "print(\"Enrollments Data:\")\n",
    "for enrollments in enrollments_data:\n",
    "    print(enrollments)"
   ]
  },
  {
   "cell_type": "markdown",
   "id": "26ff3509-f2b6-4a02-9b81-b8c05b634497",
   "metadata": {},
   "source": [
    "## JOIN Queries:\n",
    "\n",
    "  - `JOINs` allow us to combine rows from two or more tables based on a related column between them.\n",
    "  - `INNER JOIN`, `LEFT JOIN`, `RIGHT JOIN` (Simulated in SQLite), `FULL OUTER JOIN` (Simulated)"
   ]
  },
  {
   "cell_type": "markdown",
   "id": "fc937643-697f-4e8a-856b-dc15291be9ce",
   "metadata": {},
   "source": [
    "| Join Type        | Purpose                                              | Result                                        |\n",
    "|------------------|------------------------------------------------------|-----------------------------------------------|\n",
    "| **INNER JOIN**   | Returns only the matching rows from both tables       | Records with matching values only             |\n",
    "| **LEFT JOIN**    | Returns all rows from the left table and matched rows from the right | Non-matching right rows will be NULL          |\n",
    "| **RIGHT JOIN**   | (Not available in SQLite; achieved using LEFT JOIN in reverse) | N/A                                           |\n",
    "| **FULL OUTER JOIN** | Combines all matching and non-matching rows from both tables | Not supported in SQLite directly              |\n",
    "| **CROSS JOIN**   | Produces a Cartesian product of both tables           | Every combination of rows                    |"
   ]
  },
  {
   "cell_type": "markdown",
   "id": "fb2a993a-d0a0-43d2-883d-4150e888a2ae",
   "metadata": {},
   "source": [
    "1. `INNER JOIN`: Find all students and their enrolled courses."
   ]
  },
  {
   "cell_type": "code",
   "execution_count": 89,
   "id": "ce62d39a-862c-408e-9b0f-fbbb4912cd65",
   "metadata": {},
   "outputs": [
    {
     "name": "stdout",
     "output_type": "stream",
     "text": [
      "Inner Join Result:\n",
      "Name: Aarav, Course Name: Mathematics, Grade: A\n",
      "Name: Isha, Course Name: Physics, Grade: B\n",
      "Name: Rohit, Course Name: Chemistry, Grade: C\n",
      "Name: Neha, Course Name: Mathematics, Grade: B\n",
      "Name: Amit, Course Name: Physics, Grade: A\n",
      "Name: Priya, Course Name: Computer Science, Grade: A\n",
      "Name: Kunal, Course Name: Biology, Grade: B\n",
      "Name: Sita, Course Name: Chemistry, Grade: C\n",
      "Name: Arjun, Course Name: Computer Science, Grade: B\n",
      "Name: Radha, Course Name: Mathematics, Grade: A\n"
     ]
    }
   ],
   "source": [
    "# INNER JOIN: Students and their enrolled courses\n",
    "cursor.execute('''\n",
    "SELECT students.name, courses.course_name, enrollments.grade\n",
    "FROM enrollments\n",
    "INNER JOIN students ON enrollments.student_id = students.student_id\n",
    "INNER JOIN courses ON enrollments.course_id = courses.course_id;\n",
    "''')\n",
    "result = cursor.fetchall()\n",
    "\n",
    "# Print the results in a readable format\n",
    "print(\"Inner Join Result:\")\n",
    "for row in result:\n",
    "    print(f\"Name: {row[0]}, Course Name: {row[1]}, Grade: {row[2]}\")"
   ]
  },
  {
   "cell_type": "markdown",
   "id": "9ef3890e-d0c3-4ede-bb89-4dec29451346",
   "metadata": {},
   "source": [
    "2. `LEFT JOIN`: List all students and their enrollments (even if not enrolled in any course)."
   ]
  },
  {
   "cell_type": "code",
   "execution_count": 91,
   "id": "2c1f5860-2772-4bd8-9ea3-7a87cd053d36",
   "metadata": {},
   "outputs": [
    {
     "name": "stdout",
     "output_type": "stream",
     "text": [
      "Left Join Result:\n",
      " Name: Aarav, Course Name: Mathematics, Grade: A\n",
      " Name: Isha, Course Name: Physics, Grade: B\n",
      " Name: Rohit, Course Name: Chemistry, Grade: C\n",
      " Name: Neha, Course Name: Mathematics, Grade: B\n",
      " Name: Amit, Course Name: Physics, Grade: A\n",
      " Name: Priya, Course Name: Computer Science, Grade: A\n",
      " Name: Kunal, Course Name: Biology, Grade: B\n",
      " Name: Sita, Course Name: Chemistry, Grade: C\n",
      " Name: Arjun, Course Name: Computer Science, Grade: B\n",
      " Name: Radha, Course Name: Mathematics, Grade: A\n"
     ]
    }
   ],
   "source": [
    "# LEFT JOIN: Students and their enrolled courses (including those without enrollments)\n",
    "cursor.execute('''\n",
    "SELECT students.name, courses.course_name, enrollments.grade\n",
    "FROM students\n",
    "LEFT JOIN enrollments ON students.student_id = enrollments.student_id\n",
    "LEFT JOIN courses ON enrollments.course_id = courses.course_id;\n",
    "''')\n",
    "result = cursor.fetchall()\n",
    "\n",
    "# Print the results in a readable format\n",
    "print(\"Left Join Result:\")\n",
    "for row in result:\n",
    "    print(f\" Name: {row[0]}, Course Name: {row[1] if row[1] else 'None'}, Grade: {row[2] if row[2] else 'None'}\")"
   ]
  },
  {
   "cell_type": "markdown",
   "id": "ba6d8c1c-7522-45f0-ace0-abfdfadeb505",
   "metadata": {},
   "source": [
    "3. `RIGHT JOIN`: Since SQLite doesn't directly support RIGHT JOIN, we can emulate it by swapping the tables in a LEFT JOIN."
   ]
  },
  {
   "cell_type": "code",
   "execution_count": 117,
   "id": "1ad4aecd-ec2c-435b-97eb-c4f3da109a57",
   "metadata": {},
   "outputs": [
    {
     "name": "stdout",
     "output_type": "stream",
     "text": [
      "Right Join Result (emulated using LEFT JOIN):\n",
      "Name: Dr. Sharma, Department Name: Mathematics\n",
      "Name: Dr. Rao, Department Name: Physics\n",
      "Name: Dr. Mehta, Department Name: Chemistry\n",
      "Name: Dr. Iyer, Department Name: Computer Science\n",
      "Name: None, Department Name: Biology\n"
     ]
    }
   ],
   "source": [
    "# RIGHT JOIN equivalent: Departments and their assigned teachers (including departments without any teachers)\n",
    "cursor.execute('''\n",
    "SELECT teachers.name, departments.department_name\n",
    "FROM departments\n",
    "LEFT JOIN teachers ON departments.department_id = teachers.department_id;\n",
    "''')\n",
    "result = cursor.fetchall()\n",
    "\n",
    "# Print the results in a readable format\n",
    "print(\"Right Join Result (emulated using LEFT JOIN):\")\n",
    "for row in result:\n",
    "    print(f\"Name: {row[0] if row[0] else 'None'}, Department Name: {row[1]}\")\n"
   ]
  },
  {
   "cell_type": "markdown",
   "id": "5e0d1c4a-829d-4eb1-acf6-b5629f282ed1",
   "metadata": {},
   "source": [
    "4. `FULL OUTER JOIN`: SQLite does not support FULL OUTER JOIN directly, but it can be emulated using a combination of LEFT JOIN and UNION."
   ]
  },
  {
   "cell_type": "code",
   "execution_count": 119,
   "id": "d2d91277-99f5-4dec-b2fe-5d098c163c31",
   "metadata": {},
   "outputs": [
    {
     "name": "stdout",
     "output_type": "stream",
     "text": [
      "Full Outer Join Result (emulated):\n",
      "Teacher Name: None, Department Name: Biology\n",
      "Teacher Name: Dr. Gupta, Department Name: None\n",
      "Teacher Name: Dr. Iyer, Department Name: Computer Science\n",
      "Teacher Name: Dr. Mehta, Department Name: Chemistry\n",
      "Teacher Name: Dr. Rao, Department Name: Physics\n",
      "Teacher Name: Dr. Sharma, Department Name: Mathematics\n"
     ]
    }
   ],
   "source": [
    "# FULL OUTER JOIN equivalent: Teachers and departments (showing teachers without departments and departments without teachers)\n",
    "cursor.execute('''\n",
    "SELECT teachers.name, departments.department_name\n",
    "FROM teachers\n",
    "LEFT JOIN departments ON teachers.department_id = departments.department_id\n",
    "\n",
    "UNION\n",
    "\n",
    "SELECT teachers.name, departments.department_name\n",
    "FROM departments\n",
    "LEFT JOIN teachers ON departments.department_id = teachers.department_id;\n",
    "''')\n",
    "result = cursor.fetchall()\n",
    "\n",
    "# Print the results in a readable format\n",
    "print(\"Full Outer Join Result (emulated):\")\n",
    "for row in result:\n",
    "    print(f\"Teacher Name: {row[0] if row[0] else 'None'}, Department Name: {row[1] if row[1] else 'None'}\")\n"
   ]
  },
  {
   "cell_type": "markdown",
   "id": "2882cd00-3c7e-48ba-a3c0-fdf54a03c50e",
   "metadata": {},
   "source": [
    "5. `CROSS JOIN`: Returns the Cartesian product of both tables, i.e., every possible combination of students and courses."
   ]
  },
  {
   "cell_type": "code",
   "execution_count": 106,
   "id": "632cc5a8-c4ef-42b3-9acc-7812a98153bd",
   "metadata": {},
   "outputs": [
    {
     "name": "stdout",
     "output_type": "stream",
     "text": [
      "Cross Join Result (Cartesian Product):\n",
      "Name: Aarav, Course Name: Mathematics\n",
      "Name: Aarav, Course Name: Physics\n",
      "Name: Aarav, Course Name: Chemistry\n",
      "Name: Aarav, Course Name: Biology\n",
      "Name: Aarav, Course Name: Computer Science\n",
      "Name: Isha, Course Name: Mathematics\n",
      "Name: Isha, Course Name: Physics\n",
      "Name: Isha, Course Name: Chemistry\n",
      "Name: Isha, Course Name: Biology\n",
      "Name: Isha, Course Name: Computer Science\n",
      "Name: Rohit, Course Name: Mathematics\n",
      "Name: Rohit, Course Name: Physics\n",
      "Name: Rohit, Course Name: Chemistry\n",
      "Name: Rohit, Course Name: Biology\n",
      "Name: Rohit, Course Name: Computer Science\n",
      "Name: Neha, Course Name: Mathematics\n",
      "Name: Neha, Course Name: Physics\n",
      "Name: Neha, Course Name: Chemistry\n",
      "Name: Neha, Course Name: Biology\n",
      "Name: Neha, Course Name: Computer Science\n",
      "Name: Amit, Course Name: Mathematics\n",
      "Name: Amit, Course Name: Physics\n",
      "Name: Amit, Course Name: Chemistry\n",
      "Name: Amit, Course Name: Biology\n",
      "Name: Amit, Course Name: Computer Science\n",
      "Name: Priya, Course Name: Mathematics\n",
      "Name: Priya, Course Name: Physics\n",
      "Name: Priya, Course Name: Chemistry\n",
      "Name: Priya, Course Name: Biology\n",
      "Name: Priya, Course Name: Computer Science\n",
      "Name: Kunal, Course Name: Mathematics\n",
      "Name: Kunal, Course Name: Physics\n",
      "Name: Kunal, Course Name: Chemistry\n",
      "Name: Kunal, Course Name: Biology\n",
      "Name: Kunal, Course Name: Computer Science\n",
      "Name: Sita, Course Name: Mathematics\n",
      "Name: Sita, Course Name: Physics\n",
      "Name: Sita, Course Name: Chemistry\n",
      "Name: Sita, Course Name: Biology\n",
      "Name: Sita, Course Name: Computer Science\n",
      "Name: Arjun, Course Name: Mathematics\n",
      "Name: Arjun, Course Name: Physics\n",
      "Name: Arjun, Course Name: Chemistry\n",
      "Name: Arjun, Course Name: Biology\n",
      "Name: Arjun, Course Name: Computer Science\n",
      "Name: Radha, Course Name: Mathematics\n",
      "Name: Radha, Course Name: Physics\n",
      "Name: Radha, Course Name: Chemistry\n",
      "Name: Radha, Course Name: Biology\n",
      "Name: Radha, Course Name: Computer Science\n"
     ]
    }
   ],
   "source": [
    "# CROSS JOIN: Cartesian product of students and courses\n",
    "cursor.execute('''\n",
    "SELECT students.name, courses.course_name\n",
    "FROM students\n",
    "CROSS JOIN courses;\n",
    "''')\n",
    "result = cursor.fetchall()\n",
    "\n",
    "# Print the results in a readable format\n",
    "print(\"Cross Join Result (Cartesian Product):\")\n",
    "for row in result:\n",
    "    print(f\"Name: {row[0]}, Course Name: {row[1]}\")"
   ]
  },
  {
   "cell_type": "markdown",
   "id": "33e8b08b-98c6-471d-aa2c-9ab22e07b06e",
   "metadata": {},
   "source": [
    "## Grouping and Aggregation:\n",
    "\n",
    "   - `GROUP BY` and `HAVING` clauses\n",
    "   - Aggregate functions: `COUNT()`, `SUM()`, `AVG()`, `MIN()`, `MAX()`\n"
   ]
  },
  {
   "cell_type": "markdown",
   "id": "57a7ec0d-3ef9-4c53-8488-628ba62fe492",
   "metadata": {},
   "source": [
    "1. `GROUP BY Department`: Count how many teachers are in each department"
   ]
  },
  {
   "cell_type": "code",
   "execution_count": 123,
   "id": "2010499d-9e94-4574-8624-206f8542132d",
   "metadata": {},
   "outputs": [
    {
     "name": "stdout",
     "output_type": "stream",
     "text": [
      "Number of Teachers in Each Department (GROUP BY Department):\n",
      "Department Name: Biology, Number of Teachers: 0\n",
      "Department Name: Chemistry, Number of Teachers: 1\n",
      "Department Name: Computer Science, Number of Teachers: 1\n",
      "Department Name: Mathematics, Number of Teachers: 1\n",
      "Department Name: Physics, Number of Teachers: 1\n"
     ]
    }
   ],
   "source": [
    "# GROUP BY department to count how many teachers are in each department\n",
    "cursor.execute('''\n",
    "SELECT departments.department_name, COUNT(teachers.teacher_id) AS teacher_count\n",
    "FROM departments\n",
    "LEFT JOIN teachers ON departments.department_id = teachers.department_id\n",
    "GROUP BY departments.department_name;\n",
    "''')\n",
    "result = cursor.fetchall()\n",
    "\n",
    "# Print the result in a readable format\n",
    "print(\"Number of Teachers in Each Department (GROUP BY Department):\")\n",
    "for row in result:\n",
    "    print(f\"Department Name: {row[0]}, Number of Teachers: {row[1]}\")\n"
   ]
  },
  {
   "cell_type": "markdown",
   "id": "4f745974-042b-44de-8d0b-773816c414da",
   "metadata": {},
   "source": [
    "2.  `GROUP BY` and `Aggregate Functions Together`: Calculate the average grade for each course"
   ]
  },
  {
   "cell_type": "code",
   "execution_count": 127,
   "id": "f11e635d-7220-4886-8e7b-8a2723ff277a",
   "metadata": {},
   "outputs": [
    {
     "name": "stdout",
     "output_type": "stream",
     "text": [
      "Average Grade for Each Course (GROUP BY Course):\n",
      "Course Name: Biology, Average Grade: 3.00\n",
      "Course Name: Chemistry, Average Grade: 2.00\n",
      "Course Name: Computer Science, Average Grade: 3.50\n",
      "Course Name: Mathematics, Average Grade: 3.67\n",
      "Course Name: Physics, Average Grade: 3.50\n"
     ]
    }
   ],
   "source": [
    "# GROUP BY course to calculate the average grade for each course\n",
    "cursor.execute('''\n",
    "SELECT courses.course_name, AVG(\n",
    "    CASE\n",
    "        WHEN enrollments.grade = 'A' THEN 4\n",
    "        WHEN enrollments.grade = 'B' THEN 3\n",
    "        WHEN enrollments.grade = 'C' THEN 2\n",
    "        ELSE 0\n",
    "    END\n",
    ") AS average_grade\n",
    "FROM courses\n",
    "LEFT JOIN enrollments ON courses.course_id = enrollments.course_id\n",
    "GROUP BY courses.course_name;\n",
    "''')\n",
    "result = cursor.fetchall()\n",
    "\n",
    "# Print the result in a readable format\n",
    "print(\"Average Grade for Each Course (GROUP BY Course):\")\n",
    "for row in result:\n",
    "    print(f\"Course Name: {row[0]}, Average Grade: {row[1]:.2f}\")"
   ]
  },
  {
   "cell_type": "markdown",
   "id": "11683533-836e-4e1c-93aa-6dfc852fbcd5",
   "metadata": {},
   "source": [
    " 3. `HAVING`: Filter the results using a HAVING clause. For example, show only courses where the average grade is greater than 2.5."
   ]
  },
  {
   "cell_type": "code",
   "execution_count": 130,
   "id": "af4dba80-f6ad-4318-8716-cd81db30e698",
   "metadata": {},
   "outputs": [
    {
     "name": "stdout",
     "output_type": "stream",
     "text": [
      "Courses with Average Grade Greater Than 2.5:\n",
      "Course Name: Biology, Average Grade: 3.00\n",
      "Course Name: Computer Science, Average Grade: 3.50\n",
      "Course Name: Mathematics, Average Grade: 3.67\n",
      "Course Name: Physics, Average Grade: 3.50\n"
     ]
    }
   ],
   "source": [
    "# GROUP BY course and use HAVING to filter courses with an average grade > 2.5\n",
    "cursor.execute('''\n",
    "SELECT courses.course_name, AVG(\n",
    "    CASE\n",
    "        WHEN enrollments.grade = 'A' THEN 4\n",
    "        WHEN enrollments.grade = 'B' THEN 3\n",
    "        WHEN enrollments.grade = 'C' THEN 2\n",
    "        ELSE 0\n",
    "    END\n",
    ") AS average_grade\n",
    "FROM courses\n",
    "LEFT JOIN enrollments ON courses.course_id = enrollments.course_id\n",
    "GROUP BY courses.course_name\n",
    "HAVING average_grade > 2.5;\n",
    "''')\n",
    "result = cursor.fetchall()\n",
    "\n",
    "# Print the result in a readable format\n",
    "print(\"Courses with Average Grade Greater Than 2.5:\")\n",
    "for row in result:\n",
    "    print(f\"Course Name: {row[0]}, Average Grade: {row[1]:.2f}\")\n"
   ]
  },
  {
   "cell_type": "markdown",
   "id": "42442858-b20b-4c0b-ac66-a83f642b3d4b",
   "metadata": {},
   "source": [
    "4. `COUNT()`: Count how many students are enrolled in each course"
   ]
  },
  {
   "cell_type": "code",
   "execution_count": null,
   "id": "48048d58-87d9-4f82-b473-7b52b7c47617",
   "metadata": {},
   "outputs": [],
   "source": [
    "# GROUP BY course to count the number of students enrolled in each course\n",
    "cursor.execute('''\n",
    "SELECT courses.course_name, COUNT(enrollments.student_id) AS student_count\n",
    "FROM courses\n",
    "LEFT JOIN enrollments ON courses.course_id = enrollments.course_id\n",
    "GROUP BY courses.course_name;\n",
    "''')\n",
    "result = cursor.fetchall()\n",
    "\n",
    "# Print the result in a readable format\n",
    "print(\"Number of Students Enrolled in Each Course:\")\n",
    "for row in result:\n",
    "    print(f\"Course Name: {row[0]}, Number of Students: {row[1]}\")\n"
   ]
  },
  {
   "cell_type": "markdown",
   "id": "8714ff4b-ae6b-44d0-97c8-c10802387bf8",
   "metadata": {},
   "source": [
    "5. `SUM()`: Calculate the total number of courses each student is enrolled in"
   ]
  },
  {
   "cell_type": "code",
   "execution_count": 134,
   "id": "a892cc9f-aed2-45c7-b862-d2006ba3c2df",
   "metadata": {},
   "outputs": [
    {
     "name": "stdout",
     "output_type": "stream",
     "text": [
      "Total Number of Courses Each Student Is Enrolled In:\n",
      "Student Name: Aarav, Total Courses: 1\n",
      "Student Name: Amit, Total Courses: 1\n",
      "Student Name: Arjun, Total Courses: 1\n",
      "Student Name: Isha, Total Courses: 1\n",
      "Student Name: Kunal, Total Courses: 1\n",
      "Student Name: Neha, Total Courses: 1\n",
      "Student Name: Priya, Total Courses: 1\n",
      "Student Name: Radha, Total Courses: 1\n",
      "Student Name: Rohit, Total Courses: 1\n",
      "Student Name: Sita, Total Courses: 1\n"
     ]
    }
   ],
   "source": [
    "# GROUP BY student to calculate the total number of courses each student is enrolled in\n",
    "cursor.execute('''\n",
    "SELECT students.name, COUNT(enrollments.course_id) AS total_courses\n",
    "FROM students\n",
    "LEFT JOIN enrollments ON students.student_id = enrollments.student_id\n",
    "GROUP BY students.name;\n",
    "''')\n",
    "result = cursor.fetchall()\n",
    "\n",
    "# Print the result in a readable format\n",
    "print(\"Total Number of Courses Each Student Is Enrolled In:\")\n",
    "for row in result:\n",
    "    print(f\"Student Name: {row[0]}, Total Courses: {row[1]}\")"
   ]
  },
  {
   "cell_type": "markdown",
   "id": "9679c293-d482-4c79-8f4a-785ac1bd3dce",
   "metadata": {},
   "source": [
    " 6. `AVG()`: Calculate the average grade for each course (assuming grades are represented as A=4, B=3, C=2, etc.)\n",
    "    - For this, we'll use a CASE statement to convert grades into numeric values."
   ]
  },
  {
   "cell_type": "code",
   "execution_count": 137,
   "id": "bd4401e0-a095-4f09-8586-8c5a63e80282",
   "metadata": {},
   "outputs": [
    {
     "name": "stdout",
     "output_type": "stream",
     "text": [
      "Average Grade for Each Course:\n",
      "Course Name: Biology, Average Grade: 3.00\n",
      "Course Name: Chemistry, Average Grade: 2.00\n",
      "Course Name: Computer Science, Average Grade: 3.50\n",
      "Course Name: Mathematics, Average Grade: 3.67\n",
      "Course Name: Physics, Average Grade: 3.50\n"
     ]
    }
   ],
   "source": [
    "# GROUP BY course to calculate the average grade for each course\n",
    "cursor.execute('''\n",
    "SELECT courses.course_name, AVG(\n",
    "    CASE\n",
    "        WHEN enrollments.grade = 'A' THEN 4\n",
    "        WHEN enrollments.grade = 'B' THEN 3\n",
    "        WHEN enrollments.grade = 'C' THEN 2\n",
    "        ELSE 0\n",
    "    END\n",
    ") AS average_grade\n",
    "FROM courses\n",
    "LEFT JOIN enrollments ON courses.course_id = enrollments.course_id\n",
    "GROUP BY courses.course_name;\n",
    "''')\n",
    "result = cursor.fetchall()\n",
    "\n",
    "# Print the result in a readable format\n",
    "print(\"Average Grade for Each Course:\")\n",
    "for row in result:\n",
    "    print(f\"Course Name: {row[0]}, Average Grade: {row[1]:.2f}\")"
   ]
  },
  {
   "cell_type": "markdown",
   "id": "8cbb4d0b-f608-40f6-a857-e21c95112432",
   "metadata": {},
   "source": [
    "7. `MIN()` and `MAX()`: Find the minimum and maximum grades for each course"
   ]
  },
  {
   "cell_type": "code",
   "execution_count": 144,
   "id": "0534ba5b-5d8f-4d06-bc7d-dce9fe670818",
   "metadata": {},
   "outputs": [
    {
     "name": "stdout",
     "output_type": "stream",
     "text": [
      "Minimum and Maximum Grades for Each Course:\n",
      "Course Name: Biology, Min Grade: 3, Max Grade: 3\n",
      "Course Name: Chemistry, Min Grade: 2, Max Grade: 2\n",
      "Course Name: Computer Science, Min Grade: 3, Max Grade: 4\n",
      "Course Name: Mathematics, Min Grade: 3, Max Grade: 4\n",
      "Course Name: Physics, Min Grade: 3, Max Grade: 4\n"
     ]
    }
   ],
   "source": [
    "# GROUP BY course to find the minimum and maximum grade\n",
    "cursor.execute('''\n",
    "SELECT courses.course_name,\n",
    "    MIN(CASE\n",
    "            WHEN enrollments.grade = 'A' THEN 4\n",
    "            WHEN enrollments.grade = 'B' THEN 3\n",
    "            WHEN enrollments.grade = 'C' THEN 2\n",
    "            ELSE 0\n",
    "        END) AS min_grade,\n",
    "    MAX(CASE\n",
    "            WHEN enrollments.grade = 'A' THEN 4\n",
    "            WHEN enrollments.grade = 'B' THEN 3\n",
    "            WHEN enrollments.grade = 'C' THEN 2\n",
    "            ELSE 0\n",
    "        END) AS max_grade\n",
    "FROM courses\n",
    "LEFT JOIN enrollments ON courses.course_id = enrollments.course_id\n",
    "GROUP BY courses.course_name;\n",
    "''')\n",
    "result = cursor.fetchall()\n",
    "\n",
    "# Print the result in a readable format\n",
    "print(\"Minimum and Maximum Grades for Each Course:\")\n",
    "for row in result:\n",
    "    print(f\"Course Name: {row[0]}, Min Grade: {row[1]}, Max Grade: {row[2]}\")"
   ]
  },
  {
   "cell_type": "code",
   "execution_count": 33,
   "id": "f13ab4f4-e3d8-4273-a482-45a1fe4d589f",
   "metadata": {},
   "outputs": [
    {
     "name": "stdout",
     "output_type": "stream",
     "text": [
      "Database connection closed.\n"
     ]
    }
   ],
   "source": [
    "# Close the database connection\n",
    "connection.close()\n",
    "print(\"Database connection closed.\")"
   ]
  },
  {
   "cell_type": "code",
   "execution_count": null,
   "id": "21e370c4-f24f-4f46-a5c5-b54535c6b915",
   "metadata": {},
   "outputs": [],
   "source": []
  }
 ],
 "metadata": {
  "kernelspec": {
   "display_name": "Python 3 (ipykernel)",
   "language": "python",
   "name": "python3"
  },
  "language_info": {
   "codemirror_mode": {
    "name": "ipython",
    "version": 3
   },
   "file_extension": ".py",
   "mimetype": "text/x-python",
   "name": "python",
   "nbconvert_exporter": "python",
   "pygments_lexer": "ipython3",
   "version": "3.12.4"
  }
 },
 "nbformat": 4,
 "nbformat_minor": 5
}
