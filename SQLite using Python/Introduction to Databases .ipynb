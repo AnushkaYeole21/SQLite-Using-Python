{
 "cells": [
  {
   "cell_type": "markdown",
   "id": "7b57abd9-b6f0-4362-b8d8-f0127fc2c713",
   "metadata": {},
   "source": [
    "# SQLite Using Python "
   ]
  },
  {
   "cell_type": "markdown",
   "id": "0fd569c8-46a0-4ed1-9fe3-6f187fba5f8e",
   "metadata": {},
   "source": [
    "# Introduction to Databases\n",
    "\n",
    "## What is Data?\n",
    "> Data is nothing but a statistically raw and unprocessed information, which can be labled or unlabled in structure.\n",
    "\n",
    "## What is Database?\n",
    "> A **Database** is an organized collection of data stored in a computer system and usually controlled by a database management system (DBMS). \n",
    "\n",
    "- Examples:\n",
    "    - Social media platforms store user profiles and posts in databases.\n",
    "    - E-commerce websites manage product catalogs and orders using databases.\n",
    "\n",
    "### **Core Characteristics of Databases:**\n",
    "- Structured Data Storage: Tables, Schemas, and fields which organize the data.\n",
    "- CURD operations: Create, update, read and delete operations supports data.\n",
    "- Concurrency Control: Multiple users can access data simultaneously.\n",
    "- Security: Databases offers access control and encryption to protect data.\n",
    "- Backup and Recovery: Provides tools for recovering data after a crash.\n",
    "\n"
   ]
  },
  {
   "cell_type": "markdown",
   "id": "f7be2aff-6dff-4b9a-aa5b-f9eefced1ffd",
   "metadata": {},
   "source": [
    "## Types of Databases (Relational vs. Non-relational)\n",
    "\n",
    "| Relational Databases | Non-reltional Databases   |\n",
    "|------|------|\n",
    "| Relational a  Non-Relational  l\n",
    "|   Data stored in tables format also known as Relational Database Management System (RDBMS)  | Data is not stored in table format which is Non-Relational Database Management System  |\n",
    "|  Examples:  |  Examples:  |e|  of Database Management Systems  |  of Database Management Systems  |\n",
    "|  MYSql, Oracle, SQLite, MariaDB, Microsoft SQL Server, PostgreSQL, IBM DB2, Amazon aurora  |  Cassandra, Redis, Couchbase, Apache HBase, Neo4J, Elastic Search, RavenDB, DynamoDB, Couch DB | \n",
    "| \tHandles structured data|  \tHandles unstructured dat  |\n",
    "|  \tVertically scalabl  | \tHorizontally scalab  |\n",
    "|  \tIdeal for complex queries |  Not ideal for complex queries  |\n",
    "|\tCan be slow in performance|\tVery  performance  |\n",
    "|   SQL\t  |   NoSQL |\n"
   ]
  },
  {
   "cell_type": "markdown",
   "id": "1b077b49-c2be-4e39-a125-682c605387aa",
   "metadata": {},
   "source": [
    "## Introduction to SQL \n",
    ">SQL is a programming language used to create, manage, and query databases. It helps people store, retrieve, and update information quickly and efficiently.\n",
    ">\n",
    ">Think of SQL as the royal messenger who communicates with the king's vault of data (the database) and brings back exactly what the king needs.\n",
    ">The King 🤴: \"I need to know who hasn’t paid their taxes this month!\"\n",
    "> SQL Command:\n",
    "SELECT name FROM citizens WHERE taxes_paid = 'No';\n",
    ">The Messenger 🕵️‍♂️: \"Here is the list, Your Majesty!\"\n",
    "\n",
    "\n",
    "### Why is SQL so Important?\n",
    "- Organization: SQL helps structure and manage data.\n",
    "- Efficiency: SQL queries retrieve information quickly—even from huge databases!\n",
    "- Powerful Operations: You can filter, sort, and group data easily with SQL.\n",
    "- Universal: SQL is the language used by many database systems, including SQLite, MySQL, PostgreSQL, and Oracle."
   ]
  },
  {
   "cell_type": "markdown",
   "id": "5ebb989c-8a6c-4ca7-afcc-0c94de742d04",
   "metadata": {},
   "source": [
    "## Why Choose SQlite\n",
    "\n"
   ]
  },
  {
   "cell_type": "markdown",
   "id": "63976944-162f-4012-ac86-7d8d05db38fc",
   "metadata": {},
   "source": [
    "## Practical: Set up SQLite3 environment on your local machine\n",
    "\n",
    "- Steps:\n",
    "    - Open Command Prompt or terminal and type below instrusctions accordingly to Set up SQLite3 environment.\n",
    "\n",
    "<img src=\"steps.png\" />\n",
    "\n",
    "\n",
    "1. Check if sqlite is installed in your local machine. Use && sqlite3 --version && command to check.\r\n",
    "2.If not installed then install it.\n",
    "3. \" sqlite3 \" command will open sqlite cli interface.\n",
    "4. Then \".open test.db\" this command will create a new databas (if it doesn’t already exist) and open it in the SQLite shell.e.\n",
    "5. \".tables\" checks for table in the database.\n",
    "6. \".exit\" ends the sqlite3 environment set up connection. "
   ]
  },
  {
   "cell_type": "markdown",
   "id": "166d31b9-933b-41ea-a618-d87dd37cefbf",
   "metadata": {},
   "source": [
    "## SQLite3: A Simple and Powerful Tool"
   ]
  },
  {
   "cell_type": "markdown",
   "id": "52d14630-69a8-4edd-808b-ae33495e168b",
   "metadata": {},
   "source": [
    "## Key Features \n",
    "\n",
    "1. **Serverless Architecture**: It does not require a separate server to run, simplifying setup and reduces system complexity.\n",
    "2. **Zero Configuration**: No need for installation, configuration, or administration, making it ideal for beginners to focus on learning SQL syntax.\n",
    "3. **Single File Database**: All data is stored in a single file, making it easy to manage, transfer, and back up.\n",
    "4. **Lightweight Size**: The entire SQLite library is small (less than 1MB), making it suitable for embedded applications and quick learning environments.\n",
    "5. **SQL Standard Compliance**: It supports most SQL operations (CRUD, Joins, Constraints), giving learners practical SQL experience without unnecessary complexity.\n",
    "6. **Easy Integration with Python**: SQLite comes pre-installed with Python, allowing students to start coding without additional installations.\n",
    "7. **In-Memory Databases for Practice**: It supports in-memory databases, which helps students experiment quickly without creating persistent files.\n",
    "8. **Cross-Platform Compatibility**: Works on multiple platforms (Windows, macOS, Linux), ensuring learners can practice on their preferred OS without issues.\n",
    "9. **No User Management Overhead**: Unlike other databases, SQLite does not require handling user roles or permissions, making it easier to focus on learning queries."
   ]
  },
  {
   "cell_type": "markdown",
   "id": "b0622d2a-bb02-45c7-8a70-2f8b876a4b65",
   "metadata": {},
   "source": [
    "## Use cases\n",
    "\n",
    "1.  **Mobile Applications**\n",
    "- SQLite is commonly used in mobile apps to store local data, such as user preferences, chat history, or offline data.\n",
    "- Example: WhatsApp uses SQLite to store message logs.\n",
    "\n",
    "2.  **Web Browsers**\n",
    "- SQLite powers browsers like Google Chrome and Mozilla Firefox, where it stores data such as bookmarks, cookies, and browser history.\n",
    "\n",
    "3. **IoT (Internet of Things) Devices**\n",
    "- Ideal for small embedded systems such as smart TVs, sensors, and home automation devices. SQLite’s lightweight nature makes it perfect for low-power devices.\n",
    "\n",
    "4. **Desktop Software**\n",
    "- Many desktop applications, including financial management tools and note-taking apps, use SQLite for managing local data.\n",
    "- Example: Evernote uses SQLite to store notes offline.\n",
    "\n",
    "5. **Data Analysis and Prototyping**\n",
    "- SQLite is useful for quick prototyping of SQL queries and testing ideas.\n",
    "- Data scientists and analysts use it to store, query, and manipulate datasets on their local machines.\n",
    "\n",
    "6. **Backup and Cache Storage**\n",
    "- SQLite is often used for backup storage due to its portability and ease of use.\n",
    "- Some large databases use SQLite as a temporary cache to store data and reduce load on the main database.\n",
    "\n",
    "7. Games and Multimedia Applications\n",
    "- Games often use SQLite to save player progress and settings.\n",
    "- Multimedia apps use SQLite for managing media libraries."
   ]
  },
  {
   "cell_type": "markdown",
   "id": "687ccc48-990f-48d4-9966-ea0ec22d1c5e",
   "metadata": {},
   "source": [
    "## Practical: Install SQLite3, open SQLite3 shell\n",
    "\n",
    "- Follow the Set up environment instructions from previous Exercise."
   ]
  },
  {
   "cell_type": "code",
   "execution_count": null,
   "id": "61c96833-f050-4a3f-b494-f1d281835082",
   "metadata": {},
   "outputs": [],
   "source": []
  }
 ],
 "metadata": {
  "kernelspec": {
   "display_name": "Python 3 (ipykernel)",
   "language": "python",
   "name": "python3"
  },
  "language_info": {
   "codemirror_mode": {
    "name": "ipython",
    "version": 3
   },
   "file_extension": ".py",
   "mimetype": "text/x-python",
   "name": "python",
   "nbconvert_exporter": "python",
   "pygments_lexer": "ipython3",
   "version": "3.12.4"
  }
 },
 "nbformat": 4,
 "nbformat_minor": 5
}
