{
 "cells": [
  {
   "cell_type": "markdown",
   "id": "328977b6-87e0-4e75-a9bf-585b50bb8bd3",
   "metadata": {},
   "source": [
    "# Querying Data using Clauses\n",
    "\n",
    "   In this section, we'll explore how to write advanced `SELECT` queries with various clauses. We'll use the previous `students_database.db` database and modify the `students` table to add additional fields like `GPA`, `Email ID`, and `Phone Number`."
   ]
  },
  {
   "cell_type": "markdown",
   "id": "670bd833-6f63-4dad-8287-4da0a625c9e2",
   "metadata": {},
   "source": [
    "**1. Import sqlite3 and os**"
   ]
  },
  {
   "cell_type": "code",
   "execution_count": 9,
   "id": "c34f252a-18c1-4d08-b257-e8ac303ab88d",
   "metadata": {},
   "outputs": [],
   "source": [
    "import sqlite3"
   ]
  },
  {
   "cell_type": "code",
   "execution_count": 11,
   "id": "ed7d76b3-d923-4b25-9986-c2c7a6b277ca",
   "metadata": {},
   "outputs": [],
   "source": [
    "import os"
   ]
  },
  {
   "cell_type": "markdown",
   "id": "69596bd3-4a10-40db-ab5e-0e8280e048a5",
   "metadata": {},
   "source": [
    "**2. List of Databases**"
   ]
  },
  {
   "cell_type": "code",
   "execution_count": 13,
   "id": "7f361cdd-9f3d-4733-8460-8d065368b859",
   "metadata": {},
   "outputs": [
    {
     "name": "stdout",
     "output_type": "stream",
     "text": [
      "Databases: ['sample_database.db', 'school.db', 'student_database.db']\n"
     ]
    }
   ],
   "source": [
    "# List all .db files in the current directory\n",
    "databases = [f for f in os.listdir() if f.endswith('.db')]\n",
    "print(\"Databases:\", databases)"
   ]
  },
  {
   "cell_type": "markdown",
   "id": "a64ea0b3-bbb9-4f05-816e-5f858947d3e7",
   "metadata": {},
   "source": [
    "**3. Reconnect to the `students_database.db` and Modify the Table**"
   ]
  },
  {
   "cell_type": "code",
   "execution_count": 5,
   "id": "cc428b67-88ec-4aa8-9a9a-a32eec982e70",
   "metadata": {},
   "outputs": [
    {
     "name": "stdout",
     "output_type": "stream",
     "text": [
      "Reconnected to the database.\n"
     ]
    }
   ],
   "source": [
    "# Connect to the student_database.db\n",
    "db_connection = sqlite3.connect('student_database.db')\n",
    "cursor = db_connection.cursor()\n",
    "print(\"Reconnected to the database.\")"
   ]
  },
  {
   "cell_type": "markdown",
   "id": "53ffc220-e9ba-4f41-9f6b-c63f98c963b3",
   "metadata": {},
   "source": [
    "**4. Fetch and display previous data from `students` table**"
   ]
  },
  {
   "cell_type": "code",
   "execution_count": 17,
   "id": "d5367bba-65e6-4713-8842-6faaf760b01a",
   "metadata": {},
   "outputs": [
    {
     "name": "stdout",
     "output_type": "stream",
     "text": [
      "Students Data: [(1, 'Anushka', 23), (2, 'Santosh', 20), (3, 'Nidhi', 21), (4, 'Vanama', 22), (5, 'Vinod', 24)]\n"
     ]
    }
   ],
   "source": [
    "# Fetch and display previous data from 'students' table\n",
    "cursor.execute(\"SELECT * FROM students;\")\n",
    "students_data = cursor.fetchall()\n",
    "print(\"Students Data:\", students_data)"
   ]
  },
  {
   "cell_type": "markdown",
   "id": "86a4d30c-56eb-4af0-8a27-060d6d107126",
   "metadata": {},
   "source": [
    "**5. Alter Students table and add new columns.**"
   ]
  },
  {
   "cell_type": "code",
   "execution_count": 19,
   "id": "9a0976b0-1125-4838-aaa9-32b352f3be82",
   "metadata": {},
   "outputs": [
    {
     "name": "stdout",
     "output_type": "stream",
     "text": [
      "Columns added successfully!\n"
     ]
    }
   ],
   "source": [
    "# Add new columns to the students table (if they don't exist)\n",
    "cursor.execute(\"ALTER TABLE students ADD COLUMN major TEXT;\")\n",
    "cursor.execute(\"ALTER TABLE students ADD COLUMN gpa REAL;\")\n",
    "cursor.execute(\"ALTER TABLE students ADD COLUMN email TEXT;\")\n",
    "cursor.execute(\"ALTER TABLE students ADD COLUMN phone TEXT;\")\n",
    "\n",
    "print(\"Columns added successfully!\")\n"
   ]
  },
  {
   "cell_type": "markdown",
   "id": "c1abf173-13d5-45af-a8ab-76b2a44129bf",
   "metadata": {},
   "source": [
    "**6. Update Existing Records with Additional Data**"
   ]
  },
  {
   "cell_type": "code",
   "execution_count": 23,
   "id": "d3927217-ab08-4818-b677-fb52d99429d9",
   "metadata": {},
   "outputs": [
    {
     "name": "stdout",
     "output_type": "stream",
     "text": [
      "Existing student records updated!\n"
     ]
    }
   ],
   "source": [
    "# Update existing student records with new data\n",
    "update_queries = [\n",
    "    (\"UPDATE students SET major = ?, gpa = ?, email = ?, phone = ? WHERE id = ?\",\n",
    "     ('Computer Science', 3.8, 'anushka@example.com', '1234567890', 1)),\n",
    "    (\"UPDATE students SET major = ?, gpa = ?, email = ?, phone = ? WHERE id = ?\",\n",
    "     ('Mathematics', 3.5, 'santosh@example.com', '0987654321', 2)),\n",
    "    (\"UPDATE students SET major = ?, gpa = ?, email = ?, phone = ? WHERE id = ?\",\n",
    "     ('Physics', 3.9, 'nidhi@example.com', '1122334455', 3)),\n",
    "    (\"UPDATE students SET major = ?, gpa = ?, email = ?, phone = ? WHERE id = ?\",\n",
    "     ('Mathematics', 2.9, 'vanama@example.com', '6677889900', 4)),\n",
    "    (\"UPDATE students SET major = ?, gpa = ?, email = ?, phone = ? WHERE id = ?\",\n",
    "     ('Computer Science', 3.2, 'vinod@example.com', '7788991122', 5))"
   ]
  },
  {
   "cell_type": "markdown",
   "id": "d98fade5-4f51-4524-9884-6742896787fe",
   "metadata": {},
   "source": [
    "**7. Executing Query**"
   ]
  },
  {
   "cell_type": "code",
   "execution_count": null,
   "id": "0e9d6e4e-66e4-4d24-bfb4-71027c972502",
   "metadata": {},
   "outputs": [],
   "source": [
    "# Execute each update query\n",
    "for query, params in update_queries:\n",
    "    cursor.execute(query, params)"
   ]
  },
  {
   "cell_type": "markdown",
   "id": "e6ce2a77-7af3-49ae-b6af-dbfe2b612999",
   "metadata": {},
   "source": [
    "**8. Commiting changes**"
   ]
  },
  {
   "cell_type": "code",
   "execution_count": null,
   "id": "364a6d60-bf53-471a-a3eb-91fb76c2bda3",
   "metadata": {},
   "outputs": [],
   "source": [
    "# Commit the changes\n",
    "db_connection.commit()\n",
    "print(\"Existing student records updated!\")"
   ]
  },
  {
   "cell_type": "markdown",
   "id": "838954a1-0049-4b56-9566-d3532551e8b3",
   "metadata": {},
   "source": [
    "**9. Insert New Students with All Columns Filled**"
   ]
  },
  {
   "cell_type": "code",
   "execution_count": 25,
   "id": "a43d40fb-01bf-481a-a75f-48a49f2f6343",
   "metadata": {},
   "outputs": [
    {
     "name": "stdout",
     "output_type": "stream",
     "text": [
      "New student records inserted!\n"
     ]
    }
   ],
   "source": [
    "# Insert new student records\n",
    "new_students = [\n",
    "    (6, 'Meera', 22, 'Biology', 3.6, 'meera@example.com', '5544332211'),\n",
    "    (7, 'Ravi', 23, 'Engineering', 3.7, 'ravi@example.com', '6655778899')\n",
    "]\n",
    "\n",
    "cursor.executemany(\n",
    "    \"INSERT INTO students (id, name, age, major, gpa, email, phone) VALUES (?, ?, ?, ?, ?, ?, ?);\",\n",
    "    new_students\n",
    ")"
   ]
  },
  {
   "cell_type": "markdown",
   "id": "697eff6e-a4a2-4054-9b6e-844b0961c3f1",
   "metadata": {},
   "source": [
    "**10. Commit Changes**"
   ]
  },
  {
   "cell_type": "code",
   "execution_count": null,
   "id": "9c29d281-0a60-4666-8ba8-ba6f88360e77",
   "metadata": {},
   "outputs": [],
   "source": [
    "# Commit the changes\n",
    "db_connection.commit()\n",
    "print(\"New student records inserted!\")"
   ]
  },
  {
   "cell_type": "markdown",
   "id": "9d96186b-42fc-4827-96fd-ac5b64c1d3aa",
   "metadata": {},
   "source": [
    "**11. Fetch and Display the Updated Data**\n",
    "\n",
    "   - Here we used **`fetchall()`** to retreive all the data from the table."
   ]
  },
  {
   "cell_type": "code",
   "execution_count": 27,
   "id": "4a69af2c-91c4-4b4b-ae39-bd1be2bee9f2",
   "metadata": {},
   "outputs": [
    {
     "name": "stdout",
     "output_type": "stream",
     "text": [
      "Updated Students Data:\n",
      "(1, 'Anushka', 23, 'Computer Science', 3.8, 'anushka@example.com', '1234567890')\n",
      "(2, 'Santosh', 20, 'Mathematics', 3.5, 'santosh@example.com', '0987654321')\n",
      "(3, 'Nidhi', 21, 'Physics', 3.9, 'nidhi@example.com', '1122334455')\n",
      "(4, 'Vanama', 22, 'Mathematics', 2.9, 'vanama@example.com', '6677889900')\n",
      "(5, 'Vinod', 24, 'Computer Science', 3.2, 'vinod@example.com', '7788991122')\n",
      "(6, 'Meera', 22, 'Biology', 3.6, 'meera@example.com', '5544332211')\n",
      "(7, 'Ravi', 23, 'Engineering', 3.7, 'ravi@example.com', '6655778899')\n"
     ]
    }
   ],
   "source": [
    "# Fetch and display all records from the students table\n",
    "cursor.execute(\"SELECT * FROM students;\")\n",
    "students_data = cursor.fetchall()\n",
    "\n",
    "print(\"Updated Students Data:\")\n",
    "for student in students_data:\n",
    "    print(student)\n"
   ]
  },
  {
   "cell_type": "markdown",
   "id": "ebee26e9-018a-4369-81cb-9240cf686ba2",
   "metadata": {},
   "source": [
    "  - Here we used **`fetchone()`** to retreive only one row from the data from the table."
   ]
  },
  {
   "cell_type": "code",
   "execution_count": 29,
   "id": "e916825f-2df1-4c64-a477-092f1dac8a8b",
   "metadata": {},
   "outputs": [
    {
     "name": "stdout",
     "output_type": "stream",
     "text": [
      "Updated Students Data:\n",
      "1\n",
      "Anushka\n",
      "23\n",
      "Computer Science\n",
      "3.8\n",
      "anushka@example.com\n",
      "1234567890\n"
     ]
    }
   ],
   "source": [
    "# Fetch and display only one record from the students table\n",
    "cursor.execute(\"SELECT * FROM students;\")\n",
    "students_data = cursor.fetchone()\n",
    "\n",
    "print(\"Updated Students Data:\")\n",
    "for student in students_data:\n",
    "    print(student)"
   ]
  },
  {
   "cell_type": "markdown",
   "id": "616a4dfd-cc20-4c91-8aaa-b6387dfcb826",
   "metadata": {},
   "source": [
    "- Here the **`fetchone()`** is used to retrieve the specific id."
   ]
  },
  {
   "cell_type": "code",
   "execution_count": 31,
   "id": "74ee50e3-1b8a-442e-a885-a7d6242b27d5",
   "metadata": {},
   "outputs": [
    {
     "name": "stdout",
     "output_type": "stream",
     "text": [
      "Student Data for ID 4:\n",
      "(4, 'Vanama', 22, 'Mathematics', 2.9, 'vanama@example.com', '6677889900')\n"
     ]
    }
   ],
   "source": [
    "# Fetch and display only the record with id = 4\n",
    "cursor.execute(\"SELECT * FROM students WHERE id = 4;\")\n",
    "student_data = cursor.fetchone()\n",
    "\n",
    "print(\"Student Data for ID 4:\")\n",
    "print(student_data)"
   ]
  },
  {
   "cell_type": "markdown",
   "id": "0093f5be-bbad-4a3a-a090-159e800f9c09",
   "metadata": {},
   "source": [
    "## Clauses\n",
    "\n",
    "### SELECT `All` Records"
   ]
  },
  {
   "cell_type": "code",
   "execution_count": 11,
   "id": "88c910cb-f931-40f3-9da5-85f19e71d6b6",
   "metadata": {},
   "outputs": [
    {
     "name": "stdout",
     "output_type": "stream",
     "text": [
      "All Students Data:\n",
      "(1, 'Anushka', 23, 'Computer Science', 3.8, 'anushka@example.com', '1234567890'),\n",
      "(2, 'Santosh', 20, 'Mathematics', 3.5, 'santosh@example.com', '0987654321'),\n",
      "(3, 'Nidhi', 21, 'Physics', 3.9, 'nidhi@example.com', '1122334455'),\n",
      "(4, 'Vanama', 22, 'Mathematics', 2.9, 'vanama@example.com', '6677889900'),\n",
      "(5, 'Vinod', 24, 'Computer Science', 3.2, 'vinod@example.com', '7788991122'),\n",
      "(6, 'Meera', 22, 'Biology', 3.6, 'meera@example.com', '5544332211'),\n",
      "(7, 'Ravi', 23, 'Engineering', 3.7, 'ravi@example.com', '6655778899'),\n"
     ]
    }
   ],
   "source": [
    "# Fetch and display all records from the students table\n",
    "cursor.execute(\"SELECT * FROM students;\")\n",
    "students_data = cursor.fetchall()\n",
    "\n",
    "print(\"All Students Data:\")\n",
    "for student in students_data:\n",
    "    print(student, end=',\\n')"
   ]
  },
  {
   "cell_type": "markdown",
   "id": "556cbe8f-4c41-42f8-8d25-9651db814d31",
   "metadata": {},
   "source": [
    "### Condition-Based Queries\n",
    "\n",
    "   - Definition: These queries retrieve data by applying certain conditions, typically with `WHERE`, `AND`, `OR`, `IN`, `BETWEEN`, or `LIKE` clauses.\n",
    "   - Usage: Condition-based queries are essential when you want to filter records based on specific criteria."
   ]
  },
  {
   "cell_type": "markdown",
   "id": "fcbc95e1-b0f8-425c-b4dd-170b859f9a2b",
   "metadata": {},
   "source": [
    "**1. The `WHERE` Clause**\n",
    "\n",
    "    The WHERE clause allows filtering records based on conditions."
   ]
  },
  {
   "cell_type": "code",
   "execution_count": 42,
   "id": "091506c3-f6f6-4f10-b786-f62e580cf644",
   "metadata": {},
   "outputs": [
    {
     "name": "stdout",
     "output_type": "stream",
     "text": [
      "\n",
      "Students with GPA > 3.5:\n",
      "(1, 'Anushka', 23, 'Computer Science', 3.8, 'anushka@example.com', '1234567890'),\n",
      "(3, 'Nidhi', 21, 'Physics', 3.9, 'nidhi@example.com', '1122334455'),\n",
      "(6, 'Meera', 22, 'Biology', 3.6, 'meera@example.com', '5544332211'),\n",
      "(7, 'Ravi', 23, 'Engineering', 3.7, 'ravi@example.com', '6655778899'),\n"
     ]
    }
   ],
   "source": [
    "print(\"\\nStudents with GPA > 3.5:\")\n",
    "cursor.execute(\"SELECT * FROM students WHERE gpa > 3.5;\")\n",
    "gpa_data = cursor.fetchall()\n",
    "for student in gpa_data:\n",
    "    print(student, end=',\\n')"
   ]
  },
  {
   "cell_type": "markdown",
   "id": "c942016d-2723-41fb-b44a-2de3296ed3ed",
   "metadata": {},
   "source": [
    "**2. The `IN` Clause**\n",
    "   \n",
    "    The IN clause allows matching against multiple values."
   ]
  },
  {
   "cell_type": "code",
   "execution_count": 18,
   "id": "3193074e-2812-414d-b49e-d80512019684",
   "metadata": {},
   "outputs": [
    {
     "name": "stdout",
     "output_type": "stream",
     "text": [
      "\n",
      "Students Majoring in Mathematics or Physics:\n",
      "(2, 'Santosh', 20, 'Mathematics', 3.5, 'santosh@example.com', '0987654321'),\n",
      "(3, 'Nidhi', 21, 'Physics', 3.9, 'nidhi@example.com', '1122334455'),\n",
      "(4, 'Vanama', 22, 'Mathematics', 2.9, 'vanama@example.com', '6677889900'),\n"
     ]
    }
   ],
   "source": [
    "# IN clause: Fetch students majoring in Mathematics or Physics\n",
    "print(\"\\nStudents Majoring in Mathematics or Physics:\")\n",
    "cursor.execute(\"SELECT * FROM students WHERE major IN ('Mathematics', 'Physics');\")\n",
    "in_data = cursor.fetchall()\n",
    "for student in in_data:\n",
    "    print(student, end=',\\n')"
   ]
  },
  {
   "cell_type": "markdown",
   "id": "8e9a10ff-a141-4f37-bb6d-a26c30ab1d8c",
   "metadata": {},
   "source": [
    "**3. The `BETWEEN` Clause**\n",
    "\n",
    "    The BETWEEN clause filters results within a specific range."
   ]
  },
  {
   "cell_type": "code",
   "execution_count": 20,
   "id": "582c2e01-b253-4f8c-80c6-9bdc1ff559e6",
   "metadata": {},
   "outputs": [
    {
     "name": "stdout",
     "output_type": "stream",
     "text": [
      "\n",
      "Students with GPA Between 3.5 and 4.0:\n",
      "(1, 'Anushka', 23, 'Computer Science', 3.8, 'anushka@example.com', '1234567890'),\n",
      "(2, 'Santosh', 20, 'Mathematics', 3.5, 'santosh@example.com', '0987654321'),\n",
      "(3, 'Nidhi', 21, 'Physics', 3.9, 'nidhi@example.com', '1122334455'),\n",
      "(6, 'Meera', 22, 'Biology', 3.6, 'meera@example.com', '5544332211'),\n",
      "(7, 'Ravi', 23, 'Engineering', 3.7, 'ravi@example.com', '6655778899'),\n"
     ]
    }
   ],
   "source": [
    "# BETWEEN clause: Fetch students with GPA between 3.5 and 4.0\n",
    "print(\"\\nStudents with GPA Between 3.5 and 4.0:\")\n",
    "cursor.execute(\"SELECT * FROM students WHERE gpa BETWEEN 3.5 AND 4.0;\")\n",
    "between_data = cursor.fetchall()\n",
    "for student in between_data:\n",
    "    print(student, end=',\\n')"
   ]
  },
  {
   "cell_type": "markdown",
   "id": "84f521b7-3b05-42ee-93f5-e2586e2f34e5",
   "metadata": {},
   "source": [
    "**4. The `LIKE` Clause for Pattern Matching**\n",
    "\n",
    "    The LIKE clause is used for pattern matching in strings."
   ]
  },
  {
   "cell_type": "code",
   "execution_count": 22,
   "id": "7e016cea-dded-492f-8f89-6cbe0488a9a7",
   "metadata": {},
   "outputs": [
    {
     "name": "stdout",
     "output_type": "stream",
     "text": [
      "\n",
      "Students with '@example.com' Email:\n",
      "(1, 'Anushka', 23, 'Computer Science', 3.8, 'anushka@example.com', '1234567890'),\n",
      "(2, 'Santosh', 20, 'Mathematics', 3.5, 'santosh@example.com', '0987654321'),\n",
      "(3, 'Nidhi', 21, 'Physics', 3.9, 'nidhi@example.com', '1122334455'),\n",
      "(4, 'Vanama', 22, 'Mathematics', 2.9, 'vanama@example.com', '6677889900'),\n",
      "(5, 'Vinod', 24, 'Computer Science', 3.2, 'vinod@example.com', '7788991122'),\n",
      "(6, 'Meera', 22, 'Biology', 3.6, 'meera@example.com', '5544332211'),\n",
      "(7, 'Ravi', 23, 'Engineering', 3.7, 'ravi@example.com', '6655778899'),\n"
     ]
    }
   ],
   "source": [
    "# LIKE clause: Search for students with '@example.com' in their email\n",
    "print(\"\\nStudents with '@example.com' Email:\")\n",
    "cursor.execute(\"SELECT * FROM students WHERE email LIKE '%@example.com';\")\n",
    "like_data = cursor.fetchall()\n",
    "for student in like_data:\n",
    "    print(student, end=',\\n')"
   ]
  },
  {
   "cell_type": "markdown",
   "id": "68b06f16-0844-40bb-9040-d02e0757817a",
   "metadata": {},
   "source": [
    "### Ordering\n",
    "\n",
    "   - Helps sort the results in ascending (ASC) or descending (DESC) order using the ORDER BY clause."
   ]
  },
  {
   "cell_type": "markdown",
   "id": "789ac922-6f06-4de8-920e-0a6907702a3c",
   "metadata": {},
   "source": [
    "**1. The `ORDER BY` Clause**"
   ]
  },
  {
   "cell_type": "code",
   "execution_count": 37,
   "id": "967243c7-5474-4288-b34a-61c41aee0d8a",
   "metadata": {},
   "outputs": [
    {
     "name": "stdout",
     "output_type": "stream",
     "text": [
      "\n",
      "Students sorted by GPA (DESC):\n",
      "(3, 'Nidhi', 21, 'Physics', 3.9, 'nidhi@example.com', '1122334455'),\n",
      "(1, 'Anushka', 23, 'Computer Science', 3.8, 'anushka@example.com', '1234567890'),\n",
      "(7, 'Ravi', 23, 'Engineering', 3.7, 'ravi@example.com', '6655778899'),\n",
      "(6, 'Meera', 22, 'Biology', 3.6, 'meera@example.com', '5544332211'),\n",
      "(2, 'Santosh', 20, 'Mathematics', 3.5, 'santosh@example.com', '0987654321'),\n",
      "(5, 'Vinod', 24, 'Computer Science', 3.2, 'vinod@example.com', '7788991122'),\n",
      "(4, 'Vanama', 22, 'Mathematics', 2.9, 'vanama@example.com', '6677889900'),\n"
     ]
    }
   ],
   "source": [
    "# ORDER BY clause: Sort students by GPA in descending order\n",
    "print(\"\\nStudents sorted by GPA (DESC):\")\n",
    "cursor.execute(\"SELECT * FROM students ORDER BY gpa DESC;\")\n",
    "sorted_data = cursor.fetchall()\n",
    "for student in sorted_data:\n",
    "    print(student, end=',\\n')"
   ]
  },
  {
   "cell_type": "markdown",
   "id": "556f0e6a-a8b7-4376-b6a0-09927adc9317",
   "metadata": {},
   "source": [
    "### Pagination\n",
    "   - Limits the number of records returned at a time using the `LIMIT` clause, often combined with `OFFSET` for loading subsequent pages.\n",
    "\n",
    "**1. The `LIMIT` Clause**\n",
    "   \n",
    "   - The LIMIT clause restricts the number of rows returned by a query."
   ]
  },
  {
   "cell_type": "code",
   "execution_count": 44,
   "id": "1a7fd963-34ba-4e89-838a-fcc90f5f8008",
   "metadata": {},
   "outputs": [
    {
     "name": "stdout",
     "output_type": "stream",
     "text": [
      "\n",
      "Top 2 Students:\n",
      "(3, 'Nidhi', 21, 'Physics', 3.9, 'nidhi@example.com', '1122334455'),\n",
      "(1, 'Anushka', 23, 'Computer Science', 3.8, 'anushka@example.com', '1234567890'),\n"
     ]
    }
   ],
   "source": [
    "# LIMIT clause: Fetch only the top 2 students\n",
    "print(\"\\nTop 2 Students:\")\n",
    "cursor.execute(\"SELECT * FROM students ORDER BY gpa DESC LIMIT 2;\")\n",
    "top_students = cursor.fetchall()\n",
    "for student in top_students:\n",
    "    print(student, end=',\\n')"
   ]
  },
  {
   "cell_type": "markdown",
   "id": "fd758ce2-880f-4c6c-8375-b07dd00d92f2",
   "metadata": {},
   "source": [
    "**2. The `offset` clause** \n",
    "\n",
    "   - It skips first 2 rows and returns the next 2 students by highest GPA."
   ]
  },
  {
   "cell_type": "code",
   "execution_count": 32,
   "id": "4eeca1a9-7fb2-4c10-9202-3d6c5b6a4a2c",
   "metadata": {},
   "outputs": [
    {
     "name": "stdout",
     "output_type": "stream",
     "text": [
      "\n",
      "Page 2 (Next 2 Students by GPA):\n",
      "(7, 'Ravi', 23, 'Engineering', 3.7, 'ravi@example.com', '6655778899'),\n",
      "(6, 'Meera', 22, 'Biology', 3.6, 'meera@example.com', '5544332211'),\n"
     ]
    }
   ],
   "source": [
    "# Page 2 (Next 2 students by GPA)\n",
    "query = \"\"\"\n",
    "SELECT * FROM students \n",
    "ORDER BY gpa DESC \n",
    "LIMIT 2 OFFSET 2;\n",
    "\"\"\"\n",
    "cursor.execute(query)\n",
    "page2_data = cursor.fetchall()\n",
    "\n",
    "print(\"\\nPage 2 (Next 2 Students by GPA):\")\n",
    "for student in page2_data:\n",
    "    print(student, end=',\\n')\n"
   ]
  },
  {
   "cell_type": "markdown",
   "id": "27d52cdb-8f57-402f-afac-ff6e1d5895c3",
   "metadata": {},
   "source": [
    "**8. Close the connection**"
   ]
  },
  {
   "cell_type": "code",
   "execution_count": 63,
   "id": "438d13a2-db99-4624-bbd7-c7b0c8c25aec",
   "metadata": {},
   "outputs": [
    {
     "name": "stdout",
     "output_type": "stream",
     "text": [
      "Database connection closed.\n"
     ]
    }
   ],
   "source": [
    "# Close the database connection\n",
    "db_connection.close()\n",
    "print(\"Database connection closed.\")"
   ]
  },
  {
   "cell_type": "markdown",
   "id": "c833dc49-ec66-4c1c-99de-d26cf3229793",
   "metadata": {},
   "source": [
    "# Q&A"
   ]
  },
  {
   "cell_type": "markdown",
   "id": "5f67bc39-b6d0-4ab1-a559-14d952ca83e9",
   "metadata": {},
   "source": [
    "1. What is the basic syntax for a SELECT statement in SQL?"
   ]
  },
  {
   "cell_type": "markdown",
   "id": "aa6da935-2216-45eb-8572-4761be1d2c96",
   "metadata": {},
   "source": [
    "2. Can you retrieve unique values from a column using a SELECT query? If so, how?"
   ]
  },
  {
   "cell_type": "markdown",
   "id": "20f2e47a-5e81-4cf0-8527-44567a750ff1",
   "metadata": {},
   "source": [
    "3. How can you limit the number of records returned by a SELECT query?"
   ]
  },
  {
   "cell_type": "markdown",
   "id": "24c6cbb1-e0d3-4d5f-b5b7-17ccb1b49a50",
   "metadata": {},
   "source": [
    "4. How do you use the LIMIT and OFFSET clauses in an SQL query together? "
   ]
  }
 ],
 "metadata": {
  "kernelspec": {
   "display_name": "Python 3 (ipykernel)",
   "language": "python",
   "name": "python3"
  },
  "language_info": {
   "codemirror_mode": {
    "name": "ipython",
    "version": 3
   },
   "file_extension": ".py",
   "mimetype": "text/x-python",
   "name": "python",
   "nbconvert_exporter": "python",
   "pygments_lexer": "ipython3",
   "version": "3.12.4"
  }
 },
 "nbformat": 4,
 "nbformat_minor": 5
}
