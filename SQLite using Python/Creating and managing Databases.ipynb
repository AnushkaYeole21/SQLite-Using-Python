{
 "cells": [
  {
   "cell_type": "markdown",
   "id": "ec102ab0-f442-4018-9112-bfc9352a8b36",
   "metadata": {},
   "source": [
    "### Introduction to Database Schema\n",
    "\n",
    "1. Schema: A schema defines the structure of the database, including the tables, columns, data types, and relationships between tables. It acts as the blueprint of how data is organized and how tables interact within the database.\n",
    "\n",
    "2. Schema Example: A student database schema may contain a \"Students\" table with columns like StudentID, Name, Age, and Class. Another table, \"Grades,\" may have columns like StudentID, Subject, and Grade, establishing a relationship between students and their grades."
   ]
  },
  {
   "cell_type": "markdown",
   "id": "8b977667-fcbf-4c78-bd22-2d3e7bbcebed",
   "metadata": {},
   "source": [
    "### Exercise: Create a table structure for a simple application\n",
    "\n",
    "- Let's design a \"Student Management\" application. Below code is a SQL code to create a table structure:\n",
    "\n",
    "  <img src=\"s1.png\" />\n",
    "\n",
    "- Explanation:\n",
    "    - StudentID: A unique identifier for each student (Primary Key, auto-increments).\n",
    "    - Name: The student’s name (Text, cannot be null).\n",
    "    - Age: The student’s age (Integer).\n",
    "    - Class: The class the student is enrolled in (Text).\n",
    "    - Email: The student’s email (Unique to avoid duplicates).\n",
    "    - DOB: The student's Data of birth in date format.\n",
    "    - PhoneNO: Stores the student's contact number as TEXT to accommodate different formats (e.g., with country codes or special characters)."
   ]
  },
  {
   "cell_type": "markdown",
   "id": "c6911fd8-5924-4867-9087-03c93c16bccb",
   "metadata": {},
   "source": []
  },
  {
   "cell_type": "markdown",
   "id": "b17851a1-81e7-48c9-b28c-ea338bfdf669",
   "metadata": {},
   "source": [
    "## Creating a Database\n",
    "\n",
    "### Creating Your First SQLite Database\t\n",
    "Let’s walk through creating a student management system database in Python.\n",
    ">SQLite is built into Python’s standard library, so no installation is required. However, if you don’t have Python installed, download it from python.org.\n"
   ]
  },
  {
   "cell_type": "code",
   "execution_count": 46,
   "id": "d1cb9b8f-a35f-40c7-9d34-ae604d5d9d1c",
   "metadata": {},
   "outputs": [
    {
     "ename": "OperationalError",
     "evalue": "database is locked",
     "output_type": "error",
     "traceback": [
      "\u001b[1;31m---------------------------------------------------------------------------\u001b[0m",
      "\u001b[1;31mOperationalError\u001b[0m                          Traceback (most recent call last)",
      "Cell \u001b[1;32mIn[46], line 42\u001b[0m\n\u001b[0;32m     30\u001b[0m cursor\u001b[38;5;241m.\u001b[39mexecute(\u001b[38;5;124m'''\u001b[39m\n\u001b[0;32m     31\u001b[0m \u001b[38;5;124mCREATE TABLE IF NOT EXISTS Enrollments (\u001b[39m\n\u001b[0;32m     32\u001b[0m \u001b[38;5;124m    EnrollmentID INTEGER PRIMARY KEY,\u001b[39m\n\u001b[1;32m   (...)\u001b[0m\n\u001b[0;32m     38\u001b[0m \u001b[38;5;124m);\u001b[39m\n\u001b[0;32m     39\u001b[0m \u001b[38;5;124m'''\u001b[39m)\n\u001b[0;32m     41\u001b[0m \u001b[38;5;66;03m# Step 6: Insert sample data into the 'Students' table\u001b[39;00m\n\u001b[1;32m---> 42\u001b[0m cursor\u001b[38;5;241m.\u001b[39mexecutemany(\u001b[38;5;124m'''\u001b[39m\n\u001b[0;32m     43\u001b[0m \u001b[38;5;124mINSERT INTO Students (Name, Age, Gender, Email) VALUES (?, ?, ?, ?);\u001b[39m\n\u001b[0;32m     44\u001b[0m \u001b[38;5;124m'''\u001b[39m, [\n\u001b[0;32m     45\u001b[0m     (\u001b[38;5;124m'\u001b[39m\u001b[38;5;124mAlice Johnson\u001b[39m\u001b[38;5;124m'\u001b[39m, \u001b[38;5;241m21\u001b[39m, \u001b[38;5;124m'\u001b[39m\u001b[38;5;124mFemale\u001b[39m\u001b[38;5;124m'\u001b[39m, \u001b[38;5;124m'\u001b[39m\u001b[38;5;124malice0.j@example.com\u001b[39m\u001b[38;5;124m'\u001b[39m),\n\u001b[0;32m     46\u001b[0m     (\u001b[38;5;124m'\u001b[39m\u001b[38;5;124mBob Smith\u001b[39m\u001b[38;5;124m'\u001b[39m, \u001b[38;5;241m22\u001b[39m, \u001b[38;5;124m'\u001b[39m\u001b[38;5;124mMale\u001b[39m\u001b[38;5;124m'\u001b[39m, \u001b[38;5;124m'\u001b[39m\u001b[38;5;124mbob0.s@example.com\u001b[39m\u001b[38;5;124m'\u001b[39m),\n\u001b[0;32m     47\u001b[0m     (\u001b[38;5;124m'\u001b[39m\u001b[38;5;124mCharlie Davis\u001b[39m\u001b[38;5;124m'\u001b[39m, \u001b[38;5;241m20\u001b[39m, \u001b[38;5;124m'\u001b[39m\u001b[38;5;124mMale\u001b[39m\u001b[38;5;124m'\u001b[39m, \u001b[38;5;124m'\u001b[39m\u001b[38;5;124mcharlie0.d@example.com\u001b[39m\u001b[38;5;124m'\u001b[39m)\n\u001b[0;32m     48\u001b[0m ])\n\u001b[0;32m     50\u001b[0m \u001b[38;5;66;03m# Step 7: Insert sample data into the 'Courses' table\u001b[39;00m\n\u001b[0;32m     51\u001b[0m cursor\u001b[38;5;241m.\u001b[39mexecutemany(\u001b[38;5;124m'''\u001b[39m\n\u001b[0;32m     52\u001b[0m \u001b[38;5;124mINSERT INTO Courses (CourseName, Credits) VALUES (?, ?);\u001b[39m\n\u001b[0;32m     53\u001b[0m \u001b[38;5;124m'''\u001b[39m, [\n\u001b[1;32m   (...)\u001b[0m\n\u001b[0;32m     56\u001b[0m     (\u001b[38;5;124m'\u001b[39m\u001b[38;5;124mMachine Learning\u001b[39m\u001b[38;5;124m'\u001b[39m, \u001b[38;5;241m4\u001b[39m)\n\u001b[0;32m     57\u001b[0m ])\n",
      "\u001b[1;31mOperationalError\u001b[0m: database is locked"
     ]
    }
   ],
   "source": [
    "import sqlite3\n",
    "\n",
    "# Step 1: Connect to the SQLite database (creates 'student_records.db' if it doesn't exist)\n",
    "conn = sqlite3.connect('student_records.db')\n",
    "\n",
    "# Step 2: Create a cursor object to execute SQL commands\n",
    "cursor = conn.cursor()\n",
    "\n",
    "# Step 3: Create the 'Students' table\n",
    "cursor.execute('''\n",
    "CREATE TABLE IF NOT EXISTS Students (\n",
    "    StudentID INTEGER PRIMARY KEY,\n",
    "    Name TEXT NOT NULL,\n",
    "    Age INTEGER,\n",
    "    Gender TEXT,\n",
    "    Email TEXT UNIQUE\n",
    ");\n",
    "''')\n",
    "\n",
    "# Step 4: Create the 'Courses' table\n",
    "cursor.execute('''\n",
    "CREATE TABLE IF NOT EXISTS Courses (\n",
    "    CourseID INTEGER PRIMARY KEY,\n",
    "    CourseName TEXT NOT NULL,\n",
    "    Credits INTEGER\n",
    ");\n",
    "''')\n",
    "\n",
    "# Step 5: Create the 'Enrollments' table to link students to courses\n",
    "cursor.execute('''\n",
    "CREATE TABLE IF NOT EXISTS Enrollments (\n",
    "    EnrollmentID INTEGER PRIMARY KEY,\n",
    "    StudentID INTEGER,\n",
    "    CourseID INTEGER,\n",
    "    Grade TEXT,\n",
    "    FOREIGN KEY (StudentID) REFERENCES Students (StudentID),\n",
    "    FOREIGN KEY (CourseID) REFERENCES Courses (CourseID)\n",
    ");\n",
    "''')\n",
    "\n",
    "# Step 6: Insert sample data into the 'Students' table\n",
    "cursor.executemany('''\n",
    "INSERT INTO Students (Name, Age, Gender, Email) VALUES (?, ?, ?, ?);\n",
    "''', [\n",
    "    ('Alice Johnson', 21, 'Female', 'alice0.j@example.com'),\n",
    "    ('Bob Smith', 22, 'Male', 'bob0.s@example.com'),\n",
    "    ('Charlie Davis', 20, 'Male', 'charlie0.d@example.com')\n",
    "])\n",
    "\n",
    "# Step 7: Insert sample data into the 'Courses' table\n",
    "cursor.executemany('''\n",
    "INSERT INTO Courses (CourseName, Credits) VALUES (?, ?);\n",
    "''', [\n",
    "    ('Data Science 101', 3),\n",
    "    ('Python Programming', 4),\n",
    "    ('Machine Learning', 4)\n",
    "])\n",
    "\n",
    "# Step 8: Insert sample data into the 'Enrollments' table\n",
    "cursor.executemany('''\n",
    "INSERT INTO Enrollments (StudentID, CourseID, Grade) VALUES (?, ?, ?);\n",
    "''', [\n",
    "    (1, 1, 'A'),\n",
    "    (2, 2, 'B'),\n",
    "    (3, 3, 'A'),\n",
    "    (1, 3, 'B')\n",
    "])\n",
    "\n",
    "# Step 9: Commit the changes and close the connection\n",
    "conn.commit()\n",
    "conn.close()\n",
    "\n",
    "print(\"Database and tables created successfully!\")\n"
   ]
  },
  {
   "cell_type": "code",
   "execution_count": 29,
   "id": "03fa04c9-fa64-4cd4-a27b-8d582778036f",
   "metadata": {},
   "outputs": [],
   "source": [
    "import sqlite3"
   ]
  },
  {
   "cell_type": "code",
   "execution_count": 31,
   "id": "4783aeea-d353-470f-b518-0d75b1d4f308",
   "metadata": {},
   "outputs": [],
   "source": [
    "# Step 1: Connect to the SQLite database (creates 'student_records.db' if it doesn't exist)\n",
    "conn = sqlite3.connect('student_records.db')"
   ]
  },
  {
   "cell_type": "code",
   "execution_count": 33,
   "id": "404f1ac5-4394-4a80-aa95-361cd31a9181",
   "metadata": {},
   "outputs": [],
   "source": [
    "# Step 2: Create a cursor object to execute SQL commands\n",
    "cursor = conn.cursor()"
   ]
  },
  {
   "cell_type": "code",
   "execution_count": 35,
   "id": "634398e0-dad0-4ada-8bc3-66a2f0a8a41e",
   "metadata": {},
   "outputs": [
    {
     "data": {
      "text/plain": [
       "<sqlite3.Cursor at 0x19ae36debc0>"
      ]
     },
     "execution_count": 35,
     "metadata": {},
     "output_type": "execute_result"
    }
   ],
   "source": [
    "# Step 3: Create the 'Students' table\n",
    "cursor.execute('''\n",
    "CREATE TABLE IF NOT EXISTS Students (\n",
    "    StudentID INTEGER PRIMARY KEY,\n",
    "    Name TEXT NOT NULL,\n",
    "    Age INTEGER,\n",
    "    Gender TEXT,\n",
    "    Email TEXT UNIQUE\n",
    ");\n",
    "''')\n",
    "\n",
    "# Step 4: Create the 'Courses' table\n",
    "cursor.execute('''\n",
    "CREATE TABLE IF NOT EXISTS Courses (\n",
    "    CourseID INTEGER PRIMARY KEY,\n",
    "    CourseName TEXT NOT NULL,\n",
    "    Credits INTEGER\n",
    ");\n",
    "''')\n",
    "\n",
    "# Step 5: Create the 'Enrollments' table to link students to courses\n",
    "cursor.execute('''\n",
    "CREATE TABLE IF NOT EXISTS Enrollments (\n",
    "    EnrollmentID INTEGER PRIMARY KEY,\n",
    "    StudentID INTEGER,\n",
    "    CourseID INTEGER,\n",
    "    Grade TEXT,\n",
    "    FOREIGN KEY (StudentID) REFERENCES Students (StudentID),\n",
    "    FOREIGN KEY (CourseID) REFERENCES Courses (CourseID)\n",
    ");\n",
    "''')\n"
   ]
  },
  {
   "cell_type": "code",
   "execution_count": 39,
   "id": "fcc84480-3f87-4e1a-a350-8cca308934c4",
   "metadata": {},
   "outputs": [
    {
     "name": "stdout",
     "output_type": "stream",
     "text": [
      "Database and tables created successfully!\n"
     ]
    }
   ],
   "source": [
    "# Step 6: Insert sample data into the 'Students' table\n",
    "cursor.executemany('''\n",
    "INSERT INTO Students (Name, Age, Gender, Email) VALUES (?, ?, ?, ?);\n",
    "''', [\n",
    "    ('Alice Johnson', 21, 'Female', 'alice11.j@example.com'),\n",
    "    ('Bob Smith', 22, 'Male', 'bob13.s@example.com'),\n",
    "    ('Charlie Davis', 20, 'Male', 'charlie13.d@example.com')\n",
    "])\n",
    "\n",
    "# Step 7: Insert sample data into the 'Courses' table\n",
    "cursor.executemany('''\n",
    "INSERT INTO Courses (CourseName, Credits) VALUES (?, ?);\n",
    "''', [\n",
    "    ('Data Science 101', 3),\n",
    "    ('Python Programming', 4),\n",
    "    ('Machine Learning', 4)\n",
    "])\n",
    "\n",
    "# Step 8: Insert sample data into the 'Enrollments' table\n",
    "cursor.executemany('''\n",
    "INSERT INTO Enrollments (StudentID, CourseID, Grade) VALUES (?, ?, ?);\n",
    "''', [\n",
    "    (1, 1, 'A'),\n",
    "    (2, 2, 'B'),\n",
    "    (3, 3, 'A'),\n",
    "    (1, 3, 'B')\n",
    "])\n",
    "# Step 9: Commit the changes and close the connection\n",
    "conn.commit()\n",
    "conn.close()\n",
    "\n",
    "print(\"Database and tables created successfully!\")"
   ]
  },
  {
   "cell_type": "code",
   "execution_count": 41,
   "id": "3bcd0a2e-90dd-4670-8839-3380fba6d15e",
   "metadata": {},
   "outputs": [
    {
     "name": "stdout",
     "output_type": "stream",
     "text": [
      "Tables in the database:\n",
      "- Students\n",
      "Content of Students:\n",
      "['StudentID', 'Name', 'Age', 'Gender', 'Email']\n",
      "(1, 'Alice Johnson', 21, 'Female', 'alice.j@example.com')\n",
      "(2, 'Bob Smith', 22, 'Male', 'bob.s@example.com')\n",
      "(3, 'Charlie Davis', 20, 'Male', 'charlie.d@example.com')\n",
      "(4, 'Alice Johnson', 21, 'Female', 'alice1.j@example.com')\n",
      "(5, 'Bob Smith', 22, 'Male', 'bob1.s@example.com')\n",
      "(6, 'Charlie Davis', 20, 'Male', 'charlie1.d@example.com')\n",
      "(7, 'Alice Johnson', 21, 'Female', 'alice11.j@example.com')\n",
      "(8, 'Bob Smith', 22, 'Male', 'bob13.s@example.com')\n",
      "(9, 'Charlie Davis', 20, 'Male', 'charlie13.d@example.com')\n",
      "\n",
      "==================================================\n",
      "\n",
      "- Courses\n",
      "Content of Courses:\n",
      "['CourseID', 'CourseName', 'Credits']\n",
      "(1, 'Data Science 101', 3)\n",
      "(2, 'Python Programming', 4)\n",
      "(3, 'Machine Learning', 4)\n",
      "(4, 'Data Science 101', 3)\n",
      "(5, 'Python Programming', 4)\n",
      "(6, 'Machine Learning', 4)\n",
      "(7, 'Data Science 101', 3)\n",
      "(8, 'Python Programming', 4)\n",
      "(9, 'Machine Learning', 4)\n",
      "\n",
      "==================================================\n",
      "\n",
      "- Enrollments\n",
      "Content of Enrollments:\n",
      "['EnrollmentID', 'StudentID', 'CourseID', 'Grade']\n",
      "(1, 1, 1, 'A')\n",
      "(2, 2, 2, 'B')\n",
      "(3, 3, 3, 'A')\n",
      "(4, 1, 3, 'B')\n",
      "(5, 1, 1, 'A')\n",
      "(6, 2, 2, 'B')\n",
      "(7, 3, 3, 'A')\n",
      "(8, 1, 3, 'B')\n",
      "(9, 1, 1, 'A')\n",
      "(10, 2, 2, 'B')\n",
      "(11, 3, 3, 'A')\n",
      "(12, 1, 3, 'B')\n",
      "\n",
      "==================================================\n",
      "\n"
     ]
    }
   ],
   "source": [
    "\n",
    "# Connect to the SQLite database (ensure the correct path is used)\n",
    "conn = sqlite3.connect('student_records.db')\n",
    "cursor = conn.cursor()\n",
    "\n",
    "# Fetch all tables in the database\n",
    "cursor.execute(\"SELECT name FROM sqlite_master WHERE type='table';\")\n",
    "tables = cursor.fetchall()\n",
    "\n",
    "# Check if any tables are present\n",
    "if tables:\n",
    "    print(\"Tables in the database:\")\n",
    "    for table in tables:\n",
    "        print(f\"- {table[0]}\")\n",
    "        \n",
    "        # Fetch all rows from the current table\n",
    "        cursor.execute(f\"SELECT * FROM {table[0]};\")\n",
    "        rows = cursor.fetchall()\n",
    "        \n",
    "        # Get column names for better readability\n",
    "        col_names = [desc[0] for desc in cursor.description]\n",
    "        \n",
    "        # Display the content of the table\n",
    "        print(f\"Content of {table[0]}:\")\n",
    "        print(f\"{col_names}\")\n",
    "        for row in rows:\n",
    "            print(row)\n",
    "        print(\"\\n\" + \"=\"*50 + \"\\n\")\n",
    "else:\n",
    "    print(\"No tables found in the database.\")\n",
    "\n",
    "# Close the connection\n",
    "conn.close()\n"
   ]
  },
  {
   "cell_type": "code",
   "execution_count": null,
   "id": "a310f3c3-7dab-4a60-bf9b-6cb57b4245c8",
   "metadata": {},
   "outputs": [],
   "source": []
  },
  {
   "cell_type": "code",
   "execution_count": null,
   "id": "56f93443-c838-4f29-aed5-d360ce7dbeeb",
   "metadata": {},
   "outputs": [],
   "source": []
  },
  {
   "cell_type": "code",
   "execution_count": null,
   "id": "fb6b381b-f147-440d-9f6b-fb0a59936e7e",
   "metadata": {},
   "outputs": [],
   "source": []
  },
  {
   "cell_type": "markdown",
   "id": "26ed2dda-0322-4e46-92fa-771c3cf15c15",
   "metadata": {},
   "source": [
    "- Explain the .databases command to list all databases.\n",
    "- Discuss file extension .sqlite or .db."
   ]
  },
  {
   "cell_type": "markdown",
   "id": "14cbf567-38fe-41c0-bfa7-4baa66a24347",
   "metadata": {},
   "source": [
    "### SQLite Database File Extensions\n",
    "- .db or .sqlite are the two most common extensions for SQLite databases.\n",
    "- Both extensions are interchangeable, and it’s up to the developer’s preference.\n",
    ">Example:\n",
    "    - student_records.db\n",
    "    - library.sqlite"
   ]
  },
  {
   "cell_type": "markdown",
   "id": "8993d910-6c88-415a-adc8-12c79dd92aa0",
   "metadata": {},
   "source": []
  },
  {
   "cell_type": "markdown",
   "id": "0c592f26-ce65-4b60-8bb3-f84782c79c4d",
   "metadata": {},
   "source": []
  },
  {
   "cell_type": "markdown",
   "id": "4ced8d20-99e0-41e1-ae46-a6b043d40680",
   "metadata": {},
   "source": []
  }
 ],
 "metadata": {
  "kernelspec": {
   "display_name": "Python 3 (ipykernel)",
   "language": "python",
   "name": "python3"
  },
  "language_info": {
   "codemirror_mode": {
    "name": "ipython",
    "version": 3
   },
   "file_extension": ".py",
   "mimetype": "text/x-python",
   "name": "python",
   "nbconvert_exporter": "python",
   "pygments_lexer": "ipython3",
   "version": "3.12.4"
  }
 },
 "nbformat": 4,
 "nbformat_minor": 5
}
