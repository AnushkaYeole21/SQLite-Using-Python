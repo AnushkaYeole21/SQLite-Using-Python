{
 "cells": [
  {
   "cell_type": "markdown",
   "id": "b17851a1-81e7-48c9-b28c-ea338bfdf669",
   "metadata": {},
   "source": [
    "# Creating and Connecting to SQLite Database in Python\n",
    "\n",
    "> Contains all the `CURD` Operations.\n",
    "\n",
    "## Creating Your First SQLite Database\t\n",
    "\n",
    "SQLite comes bundled with Python, so no need to install anything separately. Just import the sqlite3 library.\n",
    "\n",
    "\n",
    "However, if you don’t have Python installed on your local machine, download it from python.org.\n"
   ]
  },
  {
   "cell_type": "markdown",
   "id": "299e1e89-db82-4aa5-9449-2118c0be5a10",
   "metadata": {},
   "source": [
    "1. **Install SQLite (Pre-installed with Python)**"
   ]
  },
  {
   "cell_type": "code",
   "execution_count": 4,
   "id": "89597cc0-f744-42c8-a783-0dd3d24ee6ee",
   "metadata": {},
   "outputs": [],
   "source": [
    "# Importing sqlite3 library to connect with SQLite database\n",
    "import sqlite3"
   ]
  },
  {
   "cell_type": "markdown",
   "id": "22a40903-a048-4ad3-ac6e-f658235b3f4f",
   "metadata": {},
   "source": [
    "2. **Creating a New SQLite Database File and Connecting**\n",
    "   \n",
    "   The `sqlite3.connect()` method creates a new database if it doesn't exist, or connects to an existing one.\n",
    "\n",
    "   Here, we are creating `students_database.db` database."
   ]
  },
  {
   "cell_type": "code",
   "execution_count": 6,
   "id": "79662170-51a8-40f3-b3cf-0521208be450",
   "metadata": {},
   "outputs": [
    {
     "data": {
      "text/plain": [
       "<sqlite3.Connection at 0x27d0353d030>"
      ]
     },
     "execution_count": 6,
     "metadata": {},
     "output_type": "execute_result"
    }
   ],
   "source": [
    "# Create or connect to an SQLite database file named 'sample_database.db'\n",
    "db_connection = sqlite3.connect('student_database.db')\n",
    "\n",
    "# Display the connection object\n",
    "db_connection"
   ]
  },
  {
   "cell_type": "markdown",
   "id": "df7a81aa-4a85-4c19-9b05-b8c55f8cb32d",
   "metadata": {},
   "source": [
    "3. **Creating a Cursor**\n",
    "   \n",
    "    A cursor acts like a pointer to interact with the database, allowing you to execute SQL commands."
   ]
  },
  {
   "cell_type": "code",
   "execution_count": 8,
   "id": "5a7ebfe9-3ee9-4e47-828e-fcdb335c427f",
   "metadata": {},
   "outputs": [],
   "source": [
    "# Create a cursor object to execute SQL commands\n",
    "cursor = db_connection.cursor()"
   ]
  },
  {
   "cell_type": "markdown",
   "id": "b8d5ca4d-15d6-4c15-b595-49067e296e33",
   "metadata": {},
   "source": [
    "## Data Types \n",
    "\n",
    "- SQLite is a **dynamically typed** database and supports the following data types:\n",
    "\n",
    "    - INTEGER: Whole numbers (e.g., 1, 2, 3)\n",
    "    - REAL: Decimal numbers (e.g., 3.14)\n",
    "    - TEXT: Strings (e.g., 'Alice', 'Python')\n",
    "    - BLOB: Binary data (e.g., images or files)\n",
    "    - NULL: Represents a missing value"
   ]
  },
  {
   "cell_type": "markdown",
   "id": "b1ca0b59-38d5-44c1-8d50-23c5ccaf8af7",
   "metadata": {},
   "source": [
    "4. **Creating a New Table in the Database**\n",
    "   \n",
    "    We will create a table named `students` with fields for `id`, `name`, and `age`."
   ]
  },
  {
   "cell_type": "code",
   "execution_count": 10,
   "id": "29cb51e3-b7a7-4ee9-8e9e-e39178366aea",
   "metadata": {},
   "outputs": [
    {
     "name": "stdout",
     "output_type": "stream",
     "text": [
      "Table 'students' created successfully.\n"
     ]
    }
   ],
   "source": [
    "# Execute a SQL command to create a table\n",
    "cursor.execute('''\n",
    "CREATE TABLE IF NOT EXISTS students (\n",
    "    id INTEGER PRIMARY KEY,\n",
    "    name TEXT NOT NULL,\n",
    "    age INTEGER\n",
    ")\n",
    "''')\n",
    "print(\"Table 'students' created successfully.\")\n"
   ]
  },
  {
   "cell_type": "markdown",
   "id": "21ab39f6-34ad-45f4-9fd5-ce2d27ee6578",
   "metadata": {},
   "source": [
    "5. **Verifying the Table Creation**\n",
    "   \n",
    "    We can verify that the table was created by listing all tables in the database."
   ]
  },
  {
   "cell_type": "code",
   "execution_count": 12,
   "id": "a983151b-e776-4b0a-91e2-3183565b7809",
   "metadata": {},
   "outputs": [
    {
     "name": "stdout",
     "output_type": "stream",
     "text": [
      "Tables in the database: [('students',)]\n"
     ]
    }
   ],
   "source": [
    "# Execute a query to list all tables\n",
    "cursor.execute(\"SELECT name FROM sqlite_master WHERE type='table';\")\n",
    "\n",
    "# Fetch and print the result\n",
    "tables = cursor.fetchall()\n",
    "print(\"Tables in the database:\", tables)\n"
   ]
  },
  {
   "cell_type": "markdown",
   "id": "cd544133-647a-4629-9c2f-f7ca1a90e1bd",
   "metadata": {},
   "source": [
    "6. **Inserting Data into the Table**\n",
    "   \n",
    "    Let's add some sample records to the `students` table."
   ]
  },
  {
   "cell_type": "code",
   "execution_count": 14,
   "id": "7a558e83-396e-4483-8097-5914ba53e0c6",
   "metadata": {},
   "outputs": [
    {
     "name": "stdout",
     "output_type": "stream",
     "text": [
      "Data inserted successfully.\n"
     ]
    }
   ],
   "source": [
    "# Insert records into the 'students' table\n",
    "cursor.execute(\"INSERT INTO students (name, age) VALUES ('Anushka', 23);\")\n",
    "cursor.execute(\"INSERT INTO students (name, age) VALUES ('Santosh', 20);\")\n",
    "cursor.execute(\"INSERT INTO students (name, age) VALUES ('Nidhi', 21);\")\n",
    "cursor.execute(\"INSERT INTO students (name, age) VALUES ('Vanama', 22);\")\n",
    "\n",
    "# Commit the changes to the database\n",
    "db_connection.commit()\n",
    "print(\"Data inserted successfully.\")\n"
   ]
  },
  {
   "cell_type": "markdown",
   "id": "8aeba2ce-53a3-425c-ace6-7969d454780b",
   "metadata": {},
   "source": [
    "7. **Fetching Data from the Table**\n",
    "   \n",
    "    Now, let's query the students table to retrieve the data we inserted."
   ]
  },
  {
   "cell_type": "code",
   "execution_count": 16,
   "id": "7874e75d-7a05-4194-9dc2-655e9387310e",
   "metadata": {},
   "outputs": [
    {
     "name": "stdout",
     "output_type": "stream",
     "text": [
      "Data in 'students' table: [(1, 'Anushka', 23), (2, 'Santosh', 20), (3, 'Nidhi', 21), (4, 'Vanama', 22)]\n"
     ]
    }
   ],
   "source": [
    "# Execute a query to fetch all data from 'students' table\n",
    "cursor.execute(\"SELECT * FROM students;\")\n",
    "\n",
    "# Fetch and display the data\n",
    "data = cursor.fetchall()\n",
    "print(\"Data in 'students' table:\", data)\n"
   ]
  },
  {
   "cell_type": "markdown",
   "id": "68ddcff7-fab0-40b4-8536-95f0adc5d528",
   "metadata": {},
   "source": [
    "8. **Handling Errors and Ensuring Connection Closure**\n",
    "   \n",
    "    It’s important to close the database connection to release resources. Use `try-except-finally` to handle any errors during the process."
   ]
  },
  {
   "cell_type": "code",
   "execution_count": 18,
   "id": "dfbf8695-c083-4166-ba87-a63c3f5b889b",
   "metadata": {},
   "outputs": [
    {
     "name": "stdout",
     "output_type": "stream",
     "text": [
      "New data inserted.\n",
      "Database connection closed.\n"
     ]
    }
   ],
   "source": [
    "try:\n",
    "    # Insert a new student record\n",
    "    cursor.execute(\"INSERT INTO students (name, age) VALUES ('Vinod', 24);\")\n",
    "    db_connection.commit()\n",
    "    print(\"New data inserted.\")\n",
    "except sqlite3.Error as error:\n",
    "    print(\"Error occurred:\", error)\n",
    "finally:\n",
    "    # Close the database connection\n",
    "    db_connection.close()\n",
    "    print(\"Database connection closed.\")\n"
   ]
  },
  {
   "cell_type": "markdown",
   "id": "37d4ca88-f68d-46b8-a8c5-fc2fc83654a5",
   "metadata": {},
   "source": [
    "# Creating tables in SQLite"
   ]
  },
  {
   "cell_type": "markdown",
   "id": "8f796e8e-efda-4e3f-87a7-75840f72aeaf",
   "metadata": {},
   "source": [
    "1.  **Import SQLite Library and Connect to Database**\n",
    "\n",
    "    Here, we are going to create a `school.db` database."
   ]
  },
  {
   "cell_type": "code",
   "execution_count": 84,
   "id": "b1e665ab-8d87-4b0d-a4dd-51635b4d41f9",
   "metadata": {},
   "outputs": [],
   "source": [
    "# Import the sqlite3 library\n",
    "import sqlite3\n",
    "\n",
    "# Connect to an SQLite database (or create it if it doesn't exist)\n",
    "db_connection = sqlite3.connect('school.db')\n",
    "\n",
    "# Create a cursor object to execute SQL queries\n",
    "cursor = db_connection.cursor()\n"
   ]
  },
  {
   "cell_type": "markdown",
   "id": "25864ed8-889a-4cb8-a6a2-bbd12f376b21",
   "metadata": {},
   "source": [
    "2. **Write and Execute CREATE TABLE SQL Statements**"
   ]
  },
  {
   "cell_type": "code",
   "execution_count": 86,
   "id": "e56bf447-9fcc-4fac-9321-3c5d6f63d2e4",
   "metadata": {},
   "outputs": [
    {
     "name": "stdout",
     "output_type": "stream",
     "text": [
      "'students' table created successfully.\n",
      "'courses' table created successfully.\n"
     ]
    }
   ],
   "source": [
    "# Create 'students' table\n",
    "cursor.execute('''\n",
    "CREATE TABLE IF NOT EXISTS students (\n",
    "    id INTEGER PRIMARY KEY,\n",
    "    name TEXT NOT NULL,\n",
    "    age INTEGER,\n",
    "    major TEXT\n",
    ")\n",
    "''')\n",
    "print(\"'students' table created successfully.\")\n",
    "\n",
    "# Create 'courses' table\n",
    "cursor.execute('''\n",
    "CREATE TABLE IF NOT EXISTS courses (\n",
    "    course_id INTEGER PRIMARY KEY,\n",
    "    course_name TEXT NOT NULL,\n",
    "    credits INTEGER\n",
    ")\n",
    "''')\n",
    "print(\"'courses' table created successfully.\")\n"
   ]
  },
  {
   "cell_type": "markdown",
   "id": "488b7191-f814-460f-8cc0-9ef8d98076be",
   "metadata": {},
   "source": [
    "3. **Verify Table Creation**"
   ]
  },
  {
   "cell_type": "code",
   "execution_count": 88,
   "id": "fb82f1ed-f844-4525-a505-85c8faef94f6",
   "metadata": {},
   "outputs": [
    {
     "name": "stdout",
     "output_type": "stream",
     "text": [
      "Tables in the database: [('students',), ('courses',)]\n"
     ]
    }
   ],
   "source": [
    "# Query to list all tables\n",
    "cursor.execute(\"SELECT name FROM sqlite_master WHERE type='table';\")\n",
    "\n",
    "# Fetch and print the results\n",
    "tables = cursor.fetchall()\n",
    "print(\"Tables in the database:\", tables)"
   ]
  },
  {
   "cell_type": "markdown",
   "id": "af691412-5a27-4a14-aa4c-9fc5adf76dd8",
   "metadata": {},
   "source": [
    "# Inserting Data into SQLite Tables\n",
    "\n",
    "1. **Single Data Insertion Using `execute()`**"
   ]
  },
  {
   "cell_type": "code",
   "execution_count": 90,
   "id": "994c219c-c851-402f-a6c9-3f9f95b4d04d",
   "metadata": {},
   "outputs": [
    {
     "name": "stdout",
     "output_type": "stream",
     "text": [
      "Single student record inserted.\n"
     ]
    }
   ],
   "source": [
    "# Insert a single student record\n",
    "cursor.execute(\"INSERT INTO students (name, age, major) VALUES ('Alia', 21, 'Computer Science');\")\n",
    "\n",
    "# Commit the changes\n",
    "db_connection.commit()\n",
    "print(\"Single student record inserted.\")\n"
   ]
  },
  {
   "cell_type": "markdown",
   "id": "11231243-6c62-462c-a709-dfd5b9f1b55e",
   "metadata": {},
   "source": [
    "2. **Multiple values Insertion Using `executemany()`**\n"
   ]
  },
  {
   "cell_type": "code",
   "execution_count": 92,
   "id": "a959aed0-4b4a-4283-9680-dedc9eecbe38",
   "metadata": {},
   "outputs": [
    {
     "name": "stdout",
     "output_type": "stream",
     "text": [
      "Multiple course records inserted.\n"
     ]
    }
   ],
   "source": [
    "# Prepare data for bulk insertion\n",
    "courses_data = [\n",
    "    (1, 'Mathematics', 4),\n",
    "    (2, 'Physics', 3),\n",
    "    (3, 'Chemistry', 4),\n",
    "    (4, 'Computer Science', 3)\n",
    "]\n",
    "\n",
    "# Use executemany() for bulk insertion\n",
    "cursor.executemany(\"INSERT INTO courses (course_id, course_name, credits) VALUES (?, ?, ?);\", courses_data)\n",
    "\n",
    "# Commit the changes\n",
    "db_connection.commit()\n",
    "print(\"Multiple course records inserted.\")\n"
   ]
  },
  {
   "cell_type": "markdown",
   "id": "a45dc6b2-2222-4d34-b23a-75fa7e83fd70",
   "metadata": {},
   "source": [
    "3. **Retrieve Inserted Data**"
   ]
  },
  {
   "cell_type": "code",
   "execution_count": 94,
   "id": "a2299f52-d058-4080-b3f1-199ab7b503e1",
   "metadata": {},
   "outputs": [
    {
     "name": "stdout",
     "output_type": "stream",
     "text": [
      "Students Data: [(1, 'Alia', 21, 'Computer Science')]\n",
      "Courses Data: [(1, 'Mathematics', 4), (2, 'Physics', 3), (3, 'Chemistry', 4), (4, 'Computer Science', 3)]\n"
     ]
    }
   ],
   "source": [
    "# Fetch and display data from 'students' table\n",
    "cursor.execute(\"SELECT * FROM students;\")\n",
    "students_data = cursor.fetchall()\n",
    "print(\"Students Data:\", students_data)\n",
    "\n",
    "# Fetch and display data from 'courses' table\n",
    "cursor.execute(\"SELECT * FROM courses;\")\n",
    "courses_data = cursor.fetchall()\n",
    "print(\"Courses Data:\", courses_data)"
   ]
  },
  {
   "cell_type": "markdown",
   "id": "a1a6a3fd-8cf9-4777-a79b-572e3a6417f6",
   "metadata": {},
   "source": [
    "4. Handle Errors and Close the Connection "
   ]
  },
  {
   "cell_type": "code",
   "execution_count": 96,
   "id": "ae1a3719-59ab-4685-81b3-7867b4f46c6a",
   "metadata": {},
   "outputs": [
    {
     "name": "stdout",
     "output_type": "stream",
     "text": [
      "New student record inserted.\n",
      "Database connection closed.\n"
     ]
    }
   ],
   "source": [
    "try:\n",
    "    # Insert another student record\n",
    "    cursor.execute(\"INSERT INTO students (name, age, major) VALUES ('Robin', 22, 'Physics');\")\n",
    "    db_connection.commit()\n",
    "    print(\"New student record inserted.\")\n",
    "except sqlite3.Error as e:\n",
    "    print(\"An error occurred:\", e)\n",
    "finally:\n",
    "    # Close the connection\n",
    "    db_connection.close()\n",
    "    print(\"Database connection closed.\")"
   ]
  },
  {
   "cell_type": "markdown",
   "id": "31797eae-164c-42cc-ae27-68f963b8f9fe",
   "metadata": {},
   "source": [
    "# Reconnection and Deletion\n",
    "\n",
    "1. **Reconnect to the database**"
   ]
  },
  {
   "cell_type": "code",
   "execution_count": 9,
   "id": "f3b5a3f2-cd18-4c21-b45f-cdc0df8af9c5",
   "metadata": {},
   "outputs": [
    {
     "name": "stdout",
     "output_type": "stream",
     "text": [
      "Reconnected to the database.\n"
     ]
    }
   ],
   "source": [
    "import sqlite3\n",
    "\n",
    "# Reconnect to the database\n",
    "db_connection = sqlite3.connect('school.db')\n",
    "cursor = db_connection.cursor()\n",
    "print(\"Reconnected to the database.\")"
   ]
  },
  {
   "cell_type": "markdown",
   "id": "92571a79-b3df-4dc4-80b5-2ed8a4bc0a45",
   "metadata": {},
   "source": [
    "2. **Delete Record with ID = 2**"
   ]
  },
  {
   "cell_type": "code",
   "execution_count": 13,
   "id": "e1153aeb-16dd-46ba-9509-532a386977ac",
   "metadata": {},
   "outputs": [
    {
     "name": "stdout",
     "output_type": "stream",
     "text": [
      "Record with ID = 2 has been deleted.\n"
     ]
    }
   ],
   "source": [
    "# Delete the student record with ID = 2\n",
    "cursor.execute(\"DELETE FROM students WHERE id = 2;\")\n",
    "\n",
    "# Commit the changes\n",
    "db_connection.commit()\n",
    "print(\"Record with ID = 2 has been deleted.\")\n"
   ]
  },
  {
   "cell_type": "markdown",
   "id": "287b59cc-af7f-406b-9270-59dc1828cd7b",
   "metadata": {},
   "source": [
    "3. **Verify the Deletion**"
   ]
  },
  {
   "cell_type": "code",
   "execution_count": 16,
   "id": "1c9d37df-b029-4b60-a238-6eaac8762414",
   "metadata": {
    "scrolled": true
   },
   "outputs": [
    {
     "name": "stdout",
     "output_type": "stream",
     "text": [
      "Updated Students Data: [(1, 'Alia', 21, 'Computer Science')]\n"
     ]
    }
   ],
   "source": [
    "# Fetch and display remaining student records\n",
    "cursor.execute(\"SELECT * FROM students;\")\n",
    "students_data = cursor.fetchall()\n",
    "print(\"Updated Students Data:\", students_data)\n"
   ]
  },
  {
   "cell_type": "markdown",
   "id": "a483b1bc-0a47-4a58-b3cc-c1f41a6d63a0",
   "metadata": {},
   "source": [
    "4. **Close the connection**"
   ]
  },
  {
   "cell_type": "code",
   "execution_count": 20,
   "id": "37b6db3f-459d-4d72-8c35-599ea168da54",
   "metadata": {},
   "outputs": [
    {
     "name": "stdout",
     "output_type": "stream",
     "text": [
      "Database connection closed.\n"
     ]
    }
   ],
   "source": [
    "# Close the database connection\n",
    "db_connection.close()\n",
    "print(\"Database connection closed.\")\n"
   ]
  },
  {
   "cell_type": "markdown",
   "id": "6dd81837-82a1-4dc6-8cc2-041a0bd1958c",
   "metadata": {},
   "source": [
    "# Retreive list of database \n",
    "\n",
    "Unlike MySQL, SQLite doesn’t have a built-in command to list all databases. However, you can manually check for `.db` files in your working directory with the following code:"
   ]
  },
  {
   "cell_type": "code",
   "execution_count": 20,
   "id": "c34eca49-ffb6-40dd-958b-c8429a312df0",
   "metadata": {},
   "outputs": [],
   "source": [
    "import os"
   ]
  },
  {
   "cell_type": "markdown",
   "id": "1e7c4661-bffb-47a2-b0b3-f9c3067b9829",
   "metadata": {},
   "source": [
    "1. **Retrieve created Databases**"
   ]
  },
  {
   "cell_type": "code",
   "execution_count": 22,
   "id": "125135bb-7dab-4867-a296-fb660642f2bb",
   "metadata": {},
   "outputs": [
    {
     "name": "stdout",
     "output_type": "stream",
     "text": [
      "Databases: ['sample_database.db', 'school.db', 'students_database.db', 'student_database.db']\n"
     ]
    }
   ],
   "source": [
    "# List all .db files in the current directory\n",
    "databases = [f for f in os.listdir() if f.endswith('.db')]\n",
    "print(\"Databases:\", databases)"
   ]
  },
  {
   "cell_type": "markdown",
   "id": "c38e486b-c89c-44cf-92e3-bd269eefc737",
   "metadata": {},
   "source": [
    "2. **Delete not required Databases.**"
   ]
  },
  {
   "cell_type": "code",
   "execution_count": 26,
   "id": "4f8154e0-c513-44c1-bb89-9cbc917c3028",
   "metadata": {},
   "outputs": [
    {
     "name": "stdout",
     "output_type": "stream",
     "text": [
      "Deleted: students_database.db\n"
     ]
    }
   ],
   "source": [
    "# List of databases to delete\n",
    "databases_to_delete = ['students_database.db' ]\n",
    "# Delete the specified databases\n",
    "for db in databases_to_delete:\n",
    "    if os.path.exists(db):\n",
    "        os.remove(db)\n",
    "        print(f\"Deleted: {db}\")\n",
    "    else:\n",
    "        print(f\"{db} not found.\")\n"
   ]
  },
  {
   "cell_type": "markdown",
   "id": "4312c877-5aff-4a67-a822-bb9800c7b40f",
   "metadata": {},
   "source": [
    "# Update\n",
    "\n",
    "1. **Reconnect**"
   ]
  },
  {
   "cell_type": "code",
   "execution_count": 28,
   "id": "46512a74-1a5c-4baa-99ba-ad626200e20d",
   "metadata": {},
   "outputs": [
    {
     "name": "stdout",
     "output_type": "stream",
     "text": [
      "Reconnected to the database.\n"
     ]
    }
   ],
   "source": [
    "import sqlite3\n",
    "\n",
    "# Reconnect to the database\n",
    "db_connection = sqlite3.connect('school.db')\n",
    "cursor = db_connection.cursor()\n",
    "print(\"Reconnected to the database.\")"
   ]
  },
  {
   "cell_type": "markdown",
   "id": "d9c4e8d1-67e7-49ce-841c-c7ef964e55a1",
   "metadata": {},
   "source": [
    "2. **Update a Record in the students Table**"
   ]
  },
  {
   "cell_type": "code",
   "execution_count": 33,
   "id": "8ba1f2b9-03fc-4667-af3f-29034cecef46",
   "metadata": {},
   "outputs": [
    {
     "name": "stdout",
     "output_type": "stream",
     "text": [
      "Record updated successfully.\n"
     ]
    }
   ],
   "source": [
    "# Update the name of the student with ID = 1\n",
    "cursor.execute(\"UPDATE students SET name = 'Alicia' WHERE id = 1;\")\n",
    "\n",
    "# Commit the changes\n",
    "db_connection.commit()\n",
    "print(\"Record updated successfully.\")"
   ]
  },
  {
   "cell_type": "markdown",
   "id": "34210635-2f56-46b0-ad82-5593fc9732bc",
   "metadata": {},
   "source": [
    "3. **Verify the Update**"
   ]
  },
  {
   "cell_type": "code",
   "execution_count": 36,
   "id": "9541f2e9-d9a0-42b9-8364-65cf080c5818",
   "metadata": {},
   "outputs": [
    {
     "name": "stdout",
     "output_type": "stream",
     "text": [
      "Updated Students Data: [(1, 'Alicia', 21, 'Computer Science')]\n"
     ]
    }
   ],
   "source": [
    "# Fetch and display the updated records from the students table\n",
    "cursor.execute(\"SELECT * FROM students;\")\n",
    "students_data = cursor.fetchall()\n",
    "print(\"Updated Students Data:\", students_data)"
   ]
  },
  {
   "cell_type": "markdown",
   "id": "c9984d02-bd81-40c0-9139-f624d7ab8e73",
   "metadata": {},
   "source": [
    "4. **Close the Connection**"
   ]
  },
  {
   "cell_type": "code",
   "execution_count": 39,
   "id": "56f93443-c838-4f29-aed5-d360ce7dbeeb",
   "metadata": {},
   "outputs": [
    {
     "name": "stdout",
     "output_type": "stream",
     "text": [
      "Database connection closed.\n"
     ]
    }
   ],
   "source": [
    "# Close the database connection\n",
    "db_connection.close()\n",
    "print(\"Database connection closed.\")"
   ]
  },
  {
   "cell_type": "markdown",
   "id": "14cbf567-38fe-41c0-bfa7-4baa66a24347",
   "metadata": {},
   "source": [
    "## SQLite Database File Extensions\n",
    "- `.db` or `.sqlite` are the two most common extensions for SQLite databases.\n",
    "- Both extensions are interchangeable, and it’s up to the developer’s preference.\n",
    "\n",
    "1. `.db`: Often used for general-purpose database files.\n",
    "2. `.sqlite`: This extension explicitly refers to SQLite.\n",
    "   \n",
    "Example:\n",
    "- `student_records.db`\n",
    "- `library.sqlite`"
   ]
  },
  {
   "cell_type": "markdown",
   "id": "8993d910-6c88-415a-adc8-12c79dd92aa0",
   "metadata": {},
   "source": []
  }
 ],
 "metadata": {
  "kernelspec": {
   "display_name": "Python 3 (ipykernel)",
   "language": "python",
   "name": "python3"
  },
  "language_info": {
   "codemirror_mode": {
    "name": "ipython",
    "version": 3
   },
   "file_extension": ".py",
   "mimetype": "text/x-python",
   "name": "python",
   "nbconvert_exporter": "python",
   "pygments_lexer": "ipython3",
   "version": "3.12.4"
  }
 },
 "nbformat": 4,
 "nbformat_minor": 5
}
